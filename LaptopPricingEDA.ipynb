{
  "nbformat": 4,
  "nbformat_minor": 0,
  "metadata": {
    "colab": {
      "name": "LaptopPricingEDA.ipynb",
      "provenance": [],
      "authorship_tag": "ABX9TyMeDS4Chab1r0pG5btRnurF",
      "include_colab_link": true
    },
    "kernelspec": {
      "name": "python3",
      "display_name": "Python 3"
    },
    "language_info": {
      "name": "python"
    }
  },
  "cells": [
    {
      "cell_type": "markdown",
      "metadata": {
        "id": "view-in-github",
        "colab_type": "text"
      },
      "source": [
        "<a href=\"https://colab.research.google.com/github/LishaRudani/EDA-Laptop-Price-Prediction/blob/main/LaptopPricingEDA.ipynb\" target=\"_parent\"><img src=\"https://colab.research.google.com/assets/colab-badge.svg\" alt=\"Open In Colab\"/></a>"
      ]
    },
    {
      "cell_type": "code",
      "execution_count": 1,
      "metadata": {
        "id": "Wrcrkqiv4_7i"
      },
      "outputs": [],
      "source": [
        "import pandas as pd\n",
        "import numpy as np\n",
        "import matplotlib.pyplot as plt\n",
        "import seaborn as sns"
      ]
    },
    {
      "cell_type": "code",
      "source": [
        "from google.colab import drive\n",
        "drive.mount('/content/drive')"
      ],
      "metadata": {
        "colab": {
          "base_uri": "https://localhost:8080/"
        },
        "id": "TVIp54yeBJfm",
        "outputId": "b42c165f-ace6-4586-99b4-ef17e700b87c"
      },
      "execution_count": 2,
      "outputs": [
        {
          "output_type": "stream",
          "name": "stdout",
          "text": [
            "Mounted at /content/drive\n"
          ]
        }
      ]
    },
    {
      "cell_type": "code",
      "source": [
        "!unzip /content/drive/MyDrive/Teach_Foundation_of_ML/project/Regression/archive.zip"
      ],
      "metadata": {
        "colab": {
          "base_uri": "https://localhost:8080/"
        },
        "id": "v18wCHSeBJma",
        "outputId": "286b5f8a-734e-48b4-9ff4-a25de06ecfdc"
      },
      "execution_count": 3,
      "outputs": [
        {
          "output_type": "stream",
          "name": "stdout",
          "text": [
            "unzip:  cannot find or open /content/drive/MyDrive/Teach_Foundation_of_ML/project/Regression/archive.zip, /content/drive/MyDrive/Teach_Foundation_of_ML/project/Regression/archive.zip.zip or /content/drive/MyDrive/Teach_Foundation_of_ML/project/Regression/archive.zip.ZIP.\n"
          ]
        }
      ]
    },
    {
      "cell_type": "code",
      "source": [
        "df = pd.read_csv('/content/drive/MyDrive/laptop_dataset/changed.csv', encoding='latin-1')"
      ],
      "metadata": {
        "id": "_h2GcMYKBJpF"
      },
      "execution_count": 4,
      "outputs": []
    },
    {
      "cell_type": "code",
      "source": [
        "df.shape"
      ],
      "metadata": {
        "colab": {
          "base_uri": "https://localhost:8080/"
        },
        "id": "3sqCnwA9-J94",
        "outputId": "6fca625a-228a-4e4e-dc55-58b1144fb500"
      },
      "execution_count": 5,
      "outputs": [
        {
          "output_type": "execute_result",
          "data": {
            "text/plain": [
              "(168, 23)"
            ]
          },
          "metadata": {},
          "execution_count": 5
        }
      ]
    },
    {
      "cell_type": "code",
      "source": [
        "df.drop('Unnamed: 0',axis=1,inplace=True)"
      ],
      "metadata": {
        "id": "qrWaXPrI-KEm"
      },
      "execution_count": 6,
      "outputs": []
    },
    {
      "cell_type": "code",
      "source": [
        "df.shape"
      ],
      "metadata": {
        "colab": {
          "base_uri": "https://localhost:8080/"
        },
        "id": "LG9H21ib-KIm",
        "outputId": "0cf156f9-e448-402b-e5df-3f4e05832b91"
      },
      "execution_count": 7,
      "outputs": [
        {
          "output_type": "execute_result",
          "data": {
            "text/plain": [
              "(168, 22)"
            ]
          },
          "metadata": {},
          "execution_count": 7
        }
      ]
    },
    {
      "cell_type": "code",
      "source": [
        "df.head()"
      ],
      "metadata": {
        "colab": {
          "base_uri": "https://localhost:8080/",
          "height": 681
        },
        "id": "_ce5khHn-KLc",
        "outputId": "fd5e84df-1c1c-416c-c184-b1a29509d84a"
      },
      "execution_count": 8,
      "outputs": [
        {
          "output_type": "execute_result",
          "data": {
            "text/plain": [
              "                                         Description  \\\n",
              "0  HP Spectre x360 Core i5 10th Gen - (8 GB/512 G...   \n",
              "1  Asus VivoBook 14 Core i5 8th Gen - (8 GB/512 G...   \n",
              "2  Acer Aspire 7 Core i5 9th Gen - (8 GB/512 GB S...   \n",
              "3  Asus VivoBook 14 Ryzen 5 Quad Core 2nd Gen - (...   \n",
              "4  HP 14s Core i5 10th Gen - (8 GB/512 GB SSD/Win...   \n",
              "\n",
              "                                   Processor            RAM  \\\n",
              "0         Intel Core i5 Processor (10th Gen)  8 GB DDR4 RAM   \n",
              "1          Intel Core i5 Processor (8th Gen)  8 GB DDR4 RAM   \n",
              "2          Intel Core i5 Processor (9th Gen)  8 GB DDR4 RAM   \n",
              "3  AMD Ryzen 5 Quad Core Processor (2nd Gen)  8 GB DDR4 RAM   \n",
              "4         Intel Core i5 Processor (10th Gen)  8 GB DDR4 RAM   \n",
              "\n",
              "                     Operating System     Storage  \\\n",
              "0  64 bit Windows 10 Operating System  512 GB SSD   \n",
              "1  64 bit Windows 10 Operating System  512 GB SSD   \n",
              "2  64 bit Windows 10 Operating System  512 GB SSD   \n",
              "3  64 bit Windows 10 Operating System  512 GB SSD   \n",
              "4  64 bit Windows 10 Operating System  512 GB SSD   \n",
              "\n",
              "                                    Display  \\\n",
              "0  33.78 cm (13.3 inch) Touchscreen Display   \n",
              "1                35.56 cm (14 inch) Display   \n",
              "2              39.62 cm (15.6 inch) Display   \n",
              "3                35.56 cm (14 inch) Display   \n",
              "4                35.56 cm (14 inch) Display   \n",
              "\n",
              "                                         Warranty     Price  RAM_GB  \\\n",
              "0                          1 Year Onsite Warranty  102990.0       8   \n",
              "1  1 Year Limited International Hardware Warranty   55990.0       8   \n",
              "2   1 Year International Travelers Warranty (ITW)   56990.0       8   \n",
              "3  1 Year Limited International Hardware Warranty   42990.0       8   \n",
              "4                          1 Year Onsite Warranty   52990.0       8   \n",
              "\n",
              "   DDR_Version  ... Generation Operating System Type  Storage_GB Disk Drive  \\\n",
              "0            4  ...         10               Windows         512        SSD   \n",
              "1            4  ...          8               Windows         512        SSD   \n",
              "2            4  ...          9               Windows         512        SSD   \n",
              "3            4  ...          2               Windows         512        SSD   \n",
              "4            4  ...         10               Windows         512        SSD   \n",
              "\n",
              "  Size(Inches) Company  Graphic Card Touchscreen   SSD HDD  \n",
              "0         13.3      HP            No         Yes  512    0  \n",
              "1         14.0    Asus           Yes          No  512    0  \n",
              "2         15.6    Acer           Yes          No  512    0  \n",
              "3         14.0    Asus            No          No  512    0  \n",
              "4         14.0      HP            No          No  512    0  \n",
              "\n",
              "[5 rows x 22 columns]"
            ],
            "text/html": [
              "\n",
              "  <div id=\"df-82d4d884-4c03-4de0-bb0b-97c1e7baca48\">\n",
              "    <div class=\"colab-df-container\">\n",
              "      <div>\n",
              "<style scoped>\n",
              "    .dataframe tbody tr th:only-of-type {\n",
              "        vertical-align: middle;\n",
              "    }\n",
              "\n",
              "    .dataframe tbody tr th {\n",
              "        vertical-align: top;\n",
              "    }\n",
              "\n",
              "    .dataframe thead th {\n",
              "        text-align: right;\n",
              "    }\n",
              "</style>\n",
              "<table border=\"1\" class=\"dataframe\">\n",
              "  <thead>\n",
              "    <tr style=\"text-align: right;\">\n",
              "      <th></th>\n",
              "      <th>Description</th>\n",
              "      <th>Processor</th>\n",
              "      <th>RAM</th>\n",
              "      <th>Operating System</th>\n",
              "      <th>Storage</th>\n",
              "      <th>Display</th>\n",
              "      <th>Warranty</th>\n",
              "      <th>Price</th>\n",
              "      <th>RAM_GB</th>\n",
              "      <th>DDR_Version</th>\n",
              "      <th>...</th>\n",
              "      <th>Generation</th>\n",
              "      <th>Operating System Type</th>\n",
              "      <th>Storage_GB</th>\n",
              "      <th>Disk Drive</th>\n",
              "      <th>Size(Inches)</th>\n",
              "      <th>Company</th>\n",
              "      <th>Graphic Card</th>\n",
              "      <th>Touchscreen</th>\n",
              "      <th>SSD</th>\n",
              "      <th>HDD</th>\n",
              "    </tr>\n",
              "  </thead>\n",
              "  <tbody>\n",
              "    <tr>\n",
              "      <th>0</th>\n",
              "      <td>HP Spectre x360 Core i5 10th Gen - (8 GB/512 G...</td>\n",
              "      <td>Intel Core i5 Processor (10th Gen)</td>\n",
              "      <td>8 GB DDR4 RAM</td>\n",
              "      <td>64 bit Windows 10 Operating System</td>\n",
              "      <td>512 GB SSD</td>\n",
              "      <td>33.78 cm (13.3 inch) Touchscreen Display</td>\n",
              "      <td>1 Year Onsite Warranty</td>\n",
              "      <td>102990.0</td>\n",
              "      <td>8</td>\n",
              "      <td>4</td>\n",
              "      <td>...</td>\n",
              "      <td>10</td>\n",
              "      <td>Windows</td>\n",
              "      <td>512</td>\n",
              "      <td>SSD</td>\n",
              "      <td>13.3</td>\n",
              "      <td>HP</td>\n",
              "      <td>No</td>\n",
              "      <td>Yes</td>\n",
              "      <td>512</td>\n",
              "      <td>0</td>\n",
              "    </tr>\n",
              "    <tr>\n",
              "      <th>1</th>\n",
              "      <td>Asus VivoBook 14 Core i5 8th Gen - (8 GB/512 G...</td>\n",
              "      <td>Intel Core i5 Processor (8th Gen)</td>\n",
              "      <td>8 GB DDR4 RAM</td>\n",
              "      <td>64 bit Windows 10 Operating System</td>\n",
              "      <td>512 GB SSD</td>\n",
              "      <td>35.56 cm (14 inch) Display</td>\n",
              "      <td>1 Year Limited International Hardware Warranty</td>\n",
              "      <td>55990.0</td>\n",
              "      <td>8</td>\n",
              "      <td>4</td>\n",
              "      <td>...</td>\n",
              "      <td>8</td>\n",
              "      <td>Windows</td>\n",
              "      <td>512</td>\n",
              "      <td>SSD</td>\n",
              "      <td>14.0</td>\n",
              "      <td>Asus</td>\n",
              "      <td>Yes</td>\n",
              "      <td>No</td>\n",
              "      <td>512</td>\n",
              "      <td>0</td>\n",
              "    </tr>\n",
              "    <tr>\n",
              "      <th>2</th>\n",
              "      <td>Acer Aspire 7 Core i5 9th Gen - (8 GB/512 GB S...</td>\n",
              "      <td>Intel Core i5 Processor (9th Gen)</td>\n",
              "      <td>8 GB DDR4 RAM</td>\n",
              "      <td>64 bit Windows 10 Operating System</td>\n",
              "      <td>512 GB SSD</td>\n",
              "      <td>39.62 cm (15.6 inch) Display</td>\n",
              "      <td>1 Year International Travelers Warranty (ITW)</td>\n",
              "      <td>56990.0</td>\n",
              "      <td>8</td>\n",
              "      <td>4</td>\n",
              "      <td>...</td>\n",
              "      <td>9</td>\n",
              "      <td>Windows</td>\n",
              "      <td>512</td>\n",
              "      <td>SSD</td>\n",
              "      <td>15.6</td>\n",
              "      <td>Acer</td>\n",
              "      <td>Yes</td>\n",
              "      <td>No</td>\n",
              "      <td>512</td>\n",
              "      <td>0</td>\n",
              "    </tr>\n",
              "    <tr>\n",
              "      <th>3</th>\n",
              "      <td>Asus VivoBook 14 Ryzen 5 Quad Core 2nd Gen - (...</td>\n",
              "      <td>AMD Ryzen 5 Quad Core Processor (2nd Gen)</td>\n",
              "      <td>8 GB DDR4 RAM</td>\n",
              "      <td>64 bit Windows 10 Operating System</td>\n",
              "      <td>512 GB SSD</td>\n",
              "      <td>35.56 cm (14 inch) Display</td>\n",
              "      <td>1 Year Limited International Hardware Warranty</td>\n",
              "      <td>42990.0</td>\n",
              "      <td>8</td>\n",
              "      <td>4</td>\n",
              "      <td>...</td>\n",
              "      <td>2</td>\n",
              "      <td>Windows</td>\n",
              "      <td>512</td>\n",
              "      <td>SSD</td>\n",
              "      <td>14.0</td>\n",
              "      <td>Asus</td>\n",
              "      <td>No</td>\n",
              "      <td>No</td>\n",
              "      <td>512</td>\n",
              "      <td>0</td>\n",
              "    </tr>\n",
              "    <tr>\n",
              "      <th>4</th>\n",
              "      <td>HP 14s Core i5 10th Gen - (8 GB/512 GB SSD/Win...</td>\n",
              "      <td>Intel Core i5 Processor (10th Gen)</td>\n",
              "      <td>8 GB DDR4 RAM</td>\n",
              "      <td>64 bit Windows 10 Operating System</td>\n",
              "      <td>512 GB SSD</td>\n",
              "      <td>35.56 cm (14 inch) Display</td>\n",
              "      <td>1 Year Onsite Warranty</td>\n",
              "      <td>52990.0</td>\n",
              "      <td>8</td>\n",
              "      <td>4</td>\n",
              "      <td>...</td>\n",
              "      <td>10</td>\n",
              "      <td>Windows</td>\n",
              "      <td>512</td>\n",
              "      <td>SSD</td>\n",
              "      <td>14.0</td>\n",
              "      <td>HP</td>\n",
              "      <td>No</td>\n",
              "      <td>No</td>\n",
              "      <td>512</td>\n",
              "      <td>0</td>\n",
              "    </tr>\n",
              "  </tbody>\n",
              "</table>\n",
              "<p>5 rows × 22 columns</p>\n",
              "</div>\n",
              "      <button class=\"colab-df-convert\" onclick=\"convertToInteractive('df-82d4d884-4c03-4de0-bb0b-97c1e7baca48')\"\n",
              "              title=\"Convert this dataframe to an interactive table.\"\n",
              "              style=\"display:none;\">\n",
              "        \n",
              "  <svg xmlns=\"http://www.w3.org/2000/svg\" height=\"24px\"viewBox=\"0 0 24 24\"\n",
              "       width=\"24px\">\n",
              "    <path d=\"M0 0h24v24H0V0z\" fill=\"none\"/>\n",
              "    <path d=\"M18.56 5.44l.94 2.06.94-2.06 2.06-.94-2.06-.94-.94-2.06-.94 2.06-2.06.94zm-11 1L8.5 8.5l.94-2.06 2.06-.94-2.06-.94L8.5 2.5l-.94 2.06-2.06.94zm10 10l.94 2.06.94-2.06 2.06-.94-2.06-.94-.94-2.06-.94 2.06-2.06.94z\"/><path d=\"M17.41 7.96l-1.37-1.37c-.4-.4-.92-.59-1.43-.59-.52 0-1.04.2-1.43.59L10.3 9.45l-7.72 7.72c-.78.78-.78 2.05 0 2.83L4 21.41c.39.39.9.59 1.41.59.51 0 1.02-.2 1.41-.59l7.78-7.78 2.81-2.81c.8-.78.8-2.07 0-2.86zM5.41 20L4 18.59l7.72-7.72 1.47 1.35L5.41 20z\"/>\n",
              "  </svg>\n",
              "      </button>\n",
              "      \n",
              "  <style>\n",
              "    .colab-df-container {\n",
              "      display:flex;\n",
              "      flex-wrap:wrap;\n",
              "      gap: 12px;\n",
              "    }\n",
              "\n",
              "    .colab-df-convert {\n",
              "      background-color: #E8F0FE;\n",
              "      border: none;\n",
              "      border-radius: 50%;\n",
              "      cursor: pointer;\n",
              "      display: none;\n",
              "      fill: #1967D2;\n",
              "      height: 32px;\n",
              "      padding: 0 0 0 0;\n",
              "      width: 32px;\n",
              "    }\n",
              "\n",
              "    .colab-df-convert:hover {\n",
              "      background-color: #E2EBFA;\n",
              "      box-shadow: 0px 1px 2px rgba(60, 64, 67, 0.3), 0px 1px 3px 1px rgba(60, 64, 67, 0.15);\n",
              "      fill: #174EA6;\n",
              "    }\n",
              "\n",
              "    [theme=dark] .colab-df-convert {\n",
              "      background-color: #3B4455;\n",
              "      fill: #D2E3FC;\n",
              "    }\n",
              "\n",
              "    [theme=dark] .colab-df-convert:hover {\n",
              "      background-color: #434B5C;\n",
              "      box-shadow: 0px 1px 3px 1px rgba(0, 0, 0, 0.15);\n",
              "      filter: drop-shadow(0px 1px 2px rgba(0, 0, 0, 0.3));\n",
              "      fill: #FFFFFF;\n",
              "    }\n",
              "  </style>\n",
              "\n",
              "      <script>\n",
              "        const buttonEl =\n",
              "          document.querySelector('#df-82d4d884-4c03-4de0-bb0b-97c1e7baca48 button.colab-df-convert');\n",
              "        buttonEl.style.display =\n",
              "          google.colab.kernel.accessAllowed ? 'block' : 'none';\n",
              "\n",
              "        async function convertToInteractive(key) {\n",
              "          const element = document.querySelector('#df-82d4d884-4c03-4de0-bb0b-97c1e7baca48');\n",
              "          const dataTable =\n",
              "            await google.colab.kernel.invokeFunction('convertToInteractive',\n",
              "                                                     [key], {});\n",
              "          if (!dataTable) return;\n",
              "\n",
              "          const docLinkHtml = 'Like what you see? Visit the ' +\n",
              "            '<a target=\"_blank\" href=https://colab.research.google.com/notebooks/data_table.ipynb>data table notebook</a>'\n",
              "            + ' to learn more about interactive tables.';\n",
              "          element.innerHTML = '';\n",
              "          dataTable['output_type'] = 'display_data';\n",
              "          await google.colab.output.renderOutput(dataTable, element);\n",
              "          const docLink = document.createElement('div');\n",
              "          docLink.innerHTML = docLinkHtml;\n",
              "          element.appendChild(docLink);\n",
              "        }\n",
              "      </script>\n",
              "    </div>\n",
              "  </div>\n",
              "  "
            ]
          },
          "metadata": {},
          "execution_count": 8
        }
      ]
    },
    {
      "cell_type": "code",
      "source": [
        "df.isnull().sum()"
      ],
      "metadata": {
        "colab": {
          "base_uri": "https://localhost:8080/"
        },
        "id": "TApy4A6y-KOh",
        "outputId": "cdf5a012-aab8-4472-fe31-332110091fac"
      },
      "execution_count": 9,
      "outputs": [
        {
          "output_type": "execute_result",
          "data": {
            "text/plain": [
              "Description              0\n",
              "Processor                0\n",
              "RAM                      0\n",
              "Operating System         0\n",
              "Storage                  0\n",
              "Display                  0\n",
              "Warranty                 0\n",
              "Price                    0\n",
              "RAM_GB                   0\n",
              "DDR_Version              0\n",
              "Processor Name           0\n",
              "Processor Type           0\n",
              "Generation               0\n",
              "Operating System Type    0\n",
              "Storage_GB               0\n",
              "Disk Drive               0\n",
              "Size(Inches)             0\n",
              "Company                  0\n",
              "Graphic Card             0\n",
              "Touchscreen              0\n",
              "SSD                      0\n",
              "HDD                      0\n",
              "dtype: int64"
            ]
          },
          "metadata": {},
          "execution_count": 9
        }
      ]
    },
    {
      "cell_type": "code",
      "source": [
        "df.columns"
      ],
      "metadata": {
        "colab": {
          "base_uri": "https://localhost:8080/"
        },
        "id": "Vt64OSWU-KRK",
        "outputId": "194d2ea3-e8c1-4e45-a7cf-e72fbb068966"
      },
      "execution_count": 10,
      "outputs": [
        {
          "output_type": "execute_result",
          "data": {
            "text/plain": [
              "Index(['Description', 'Processor', 'RAM', 'Operating System', 'Storage',\n",
              "       'Display', 'Warranty', 'Price', 'RAM_GB', 'DDR_Version',\n",
              "       'Processor Name', 'Processor Type', 'Generation',\n",
              "       'Operating System Type', 'Storage_GB', 'Disk Drive', 'Size(Inches)',\n",
              "       'Company', 'Graphic Card', 'Touchscreen', 'SSD', 'HDD'],\n",
              "      dtype='object')"
            ]
          },
          "metadata": {},
          "execution_count": 10
        }
      ]
    },
    {
      "cell_type": "code",
      "source": [
        "sns.countplot(x='RAM_GB',data=df)\n",
        "\n",
        "plt.xlabel('RAM') \n",
        "plt.ylabel('Number of laptops') \n",
        "\n",
        "plt.show()"
      ],
      "metadata": {
        "colab": {
          "base_uri": "https://localhost:8080/",
          "height": 279
        },
        "id": "1S6Kbd01-aFf",
        "outputId": "086451cd-d32e-4cc3-a2c7-9d1afcdeac22"
      },
      "execution_count": 11,
      "outputs": [
        {
          "output_type": "display_data",
          "data": {
            "text/plain": [
              "<Figure size 432x288 with 1 Axes>"
            ],
            "image/png": "[encoded data removed]"
          },
          "metadata": {
            "needs_background": "light"
          }
        }
      ]
    },
    {
      "cell_type": "markdown",
      "source": [
        "We can see that the maximum number of laptops have 8GB of RAM(above 100) and 4GB RAM will be fine for school purpose. 8GB RAM is optimal since its sufficient for college purpose and for normal games. Very few laptops have 32GB RAM. But if there are professional gamers then they prefer 16/32GB RAM laptops. Its obvious that as the size of the RAM increases, so does the price. Laptops with a higher RAM size are costly. But lets verify it now!"
      ],
      "metadata": {
        "id": "UIBFKble-gTX"
      }
    },
    {
      "cell_type": "code",
      "source": [
        "df.groupby('RAM_GB')['Price'].mean()"
      ],
      "metadata": {
        "colab": {
          "base_uri": "https://localhost:8080/"
        },
        "id": "mxXJnzVQ-aII",
        "outputId": "fbafa575-1e52-433f-ad46-30be943e4b60"
      },
      "execution_count": 12,
      "outputs": [
        {
          "output_type": "execute_result",
          "data": {
            "text/plain": [
              "RAM_GB\n",
              "4      39080.058824\n",
              "8      68139.419643\n",
              "16    164398.950000\n",
              "32    271090.500000\n",
              "Name: Price, dtype: float64"
            ]
          },
          "metadata": {},
          "execution_count": 12
        }
      ]
    },
    {
      "cell_type": "code",
      "source": [
        "sns.boxplot(x='RAM_GB',y=\"Price\",data=df)\n",
        "plt.show()"
      ],
      "metadata": {
        "colab": {
          "base_uri": "https://localhost:8080/",
          "height": 280
        },
        "id": "uitslHNN-aKs",
        "outputId": "03df71a2-7cb1-41fc-e9e0-09bafafa8692"
      },
      "execution_count": 13,
      "outputs": [
        {
          "output_type": "display_data",
          "data": {
            "text/plain": [
              "<Figure size 432x288 with 1 Axes>"
            ],
            "image/png": "[encoded data removed]"
          },
          "metadata": {
            "needs_background": "light"
          }
        }
      ]
    },
    {
      "cell_type": "markdown",
      "source": [
        "So its evident that as the size of the RAM increases, the Price of the laptop also increases. There are even a few outliers for 8 GB RAM which indicates that even though RAM is 8GB the Price is very high.So the other features of the laptop might be excellent. But what can the other features be which makes it so expensive? Let's find out"
      ],
      "metadata": {
        "id": "lJSbc1AI-qS3"
      }
    },
    {
      "cell_type": "code",
      "source": [
        "df[df['RAM_GB']==8]['Price'].idxmax() # The index of the laptop with maximum price(8GB RAM)"
      ],
      "metadata": {
        "colab": {
          "base_uri": "https://localhost:8080/"
        },
        "id": "y9sShzrG-aNX",
        "outputId": "df1d3d74-b884-4d84-f947-1c80fe34a31c"
      },
      "execution_count": 14,
      "outputs": [
        {
          "output_type": "execute_result",
          "data": {
            "text/plain": [
              "145"
            ]
          },
          "metadata": {},
          "execution_count": 14
        }
      ]
    },
    {
      "cell_type": "code",
      "source": [
        "df.iloc[145,7] # The maximum price for a 8GB laptop is 1,49,000"
      ],
      "metadata": {
        "colab": {
          "base_uri": "https://localhost:8080/"
        },
        "id": "33IrzBNy-rwF",
        "outputId": "6844f74f-fcc8-4943-e85c-c2d9e5f348ed"
      },
      "execution_count": 15,
      "outputs": [
        {
          "output_type": "execute_result",
          "data": {
            "text/plain": [
              "148999.0"
            ]
          },
          "metadata": {},
          "execution_count": 15
        }
      ]
    },
    {
      "cell_type": "code",
      "source": [
        "df.iloc[145,:] # Checking all the features of that laptop"
      ],
      "metadata": {
        "colab": {
          "base_uri": "https://localhost:8080/"
        },
        "id": "b5PpVVQY-ry3",
        "outputId": "0eac5b48-4c1b-4cd4-a9a0-1ba0c0e9778a"
      },
      "execution_count": 16,
      "outputs": [
        {
          "output_type": "execute_result",
          "data": {
            "text/plain": [
              "Description              Apple MacBook Pro Core i5 8th Gen - (8 GB/256 ...\n",
              "Processor                                Intel Core i5 Processor (8th Gen)\n",
              "RAM                                                          8 GB DDR3 RAM\n",
              "Operating System                                   Mac OS Operating System\n",
              "Storage                                                         256 GB SSD\n",
              "Display                                       33.78 cm (13.3 inch) Display\n",
              "Warranty                                            1 Year Onsite Warranty\n",
              "Price                                                             148999.0\n",
              "RAM_GB                                                                   8\n",
              "DDR_Version                                                              3\n",
              "Processor Name                                                       Intel\n",
              "Processor Type                                                          i5\n",
              "Generation                                                               8\n",
              "Operating System Type                                                  Mac\n",
              "Storage_GB                                                             256\n",
              "Disk Drive                                                             SSD\n",
              "Size(Inches)                                                          13.3\n",
              "Company                                                                 HP\n",
              "Graphic Card                                                            No\n",
              "Touchscreen                                                             No\n",
              "SSD                                                                   256 \n",
              "HDD                                                                      0\n",
              "Name: 145, dtype: object"
            ]
          },
          "metadata": {},
          "execution_count": 16
        }
      ]
    },
    {
      "cell_type": "markdown",
      "source": [
        "So now we can understand the reason behind this Price. In general Apple Macbooks are very much expensive when compared to Windows/Linux laptops. Here the Macbook is of Intel i5 8th gen 256GB SSD which is pretty good for a Macbook! So that's the reason for a very high price of a 8GB RAM laptop.If it's a Windows one then the price won't be this high(given the same configurations of the processor,generation)"
      ],
      "metadata": {
        "id": "KOuhZ0QU-1CR"
      }
    },
    {
      "cell_type": "code",
      "source": [
        "df.groupby('RAM_GB')['Price'].mean()"
      ],
      "metadata": {
        "colab": {
          "base_uri": "https://localhost:8080/"
        },
        "id": "tp778plt-r38",
        "outputId": "6d3e2e6f-d1db-4a47-f45f-cd2cdc3c01e4"
      },
      "execution_count": 17,
      "outputs": [
        {
          "output_type": "execute_result",
          "data": {
            "text/plain": [
              "RAM_GB\n",
              "4      39080.058824\n",
              "8      68139.419643\n",
              "16    164398.950000\n",
              "32    271090.500000\n",
              "Name: Price, dtype: float64"
            ]
          },
          "metadata": {},
          "execution_count": 17
        }
      ]
    },
    {
      "cell_type": "code",
      "source": [
        "df['Processor Name'].value_counts().plot(kind='bar')\n",
        "\n",
        "plt.xlabel('Processor Name')\n",
        "plt.ylabel('Number of laptops')\n",
        "plt.show()"
      ],
      "metadata": {
        "colab": {
          "base_uri": "https://localhost:8080/",
          "height": 315
        },
        "id": "D4J8l1Hb-r7E",
        "outputId": "82a633f4-89b1-4b26-faa9-1586cda3896e"
      },
      "execution_count": 18,
      "outputs": [
        {
          "output_type": "display_data",
          "data": {
            "text/plain": [
              "<Figure size 432x288 with 1 Axes>"
            ],
            "image/png": "[encoded data removed]"
          },
          "metadata": {
            "needs_background": "light"
          }
        }
      ]
    },
    {
      "cell_type": "code",
      "source": [
        "a=df['Processor Name'].unique()\n",
        "b=np.array(df['Processor Name'].value_counts())\n",
        "b"
      ],
      "metadata": {
        "colab": {
          "base_uri": "https://localhost:8080/"
        },
        "id": "TZbQ_fVu-aQG",
        "outputId": "6ae88817-ab98-4d2f-baee-edc4554c6ce1"
      },
      "execution_count": 19,
      "outputs": [
        {
          "output_type": "execute_result",
          "data": {
            "text/plain": [
              "array([144,  23,   1])"
            ]
          },
          "metadata": {},
          "execution_count": 19
        }
      ]
    },
    {
      "cell_type": "markdown",
      "source": [
        "Nowadays Intel is the most preferred processor and most of the laptops have intel procesors only.They tend to offer better performance per core, but AMD compensates with more cores at a given price and better onboard graphics. In general Intel processors are expensive than AMD processors. Lets check if that is true!"
      ],
      "metadata": {
        "id": "HCsjRY0i_CEW"
      }
    },
    {
      "cell_type": "code",
      "source": [
        "pd.pivot_table(df,index='Processor Name',values='Price')"
      ],
      "metadata": {
        "colab": {
          "base_uri": "https://localhost:8080/",
          "height": 175
        },
        "id": "n2EConeA-8aH",
        "outputId": "23b350a3-ac53-41d6-e11a-59f8c8e839b6"
      },
      "execution_count": 20,
      "outputs": [
        {
          "output_type": "execute_result",
          "data": {
            "text/plain": [
              "                       Price\n",
              "Processor Name              \n",
              "AMD             53607.695652\n",
              "Intel           79589.326389\n",
              "Microsoft       96657.000000"
            ],
            "text/html": [
              "\n",
              "  <div id=\"df-b9f01b86-7873-495c-9d39-9362146cf8c4\">\n",
              "    <div class=\"colab-df-container\">\n",
              "      <div>\n",
              "<style scoped>\n",
              "    .dataframe tbody tr th:only-of-type {\n",
              "        vertical-align: middle;\n",
              "    }\n",
              "\n",
              "    .dataframe tbody tr th {\n",
              "        vertical-align: top;\n",
              "    }\n",
              "\n",
              "    .dataframe thead th {\n",
              "        text-align: right;\n",
              "    }\n",
              "</style>\n",
              "<table border=\"1\" class=\"dataframe\">\n",
              "  <thead>\n",
              "    <tr style=\"text-align: right;\">\n",
              "      <th></th>\n",
              "      <th>Price</th>\n",
              "    </tr>\n",
              "    <tr>\n",
              "      <th>Processor Name</th>\n",
              "      <th></th>\n",
              "    </tr>\n",
              "  </thead>\n",
              "  <tbody>\n",
              "    <tr>\n",
              "      <th>AMD</th>\n",
              "      <td>53607.695652</td>\n",
              "    </tr>\n",
              "    <tr>\n",
              "      <th>Intel</th>\n",
              "      <td>79589.326389</td>\n",
              "    </tr>\n",
              "    <tr>\n",
              "      <th>Microsoft</th>\n",
              "      <td>96657.000000</td>\n",
              "    </tr>\n",
              "  </tbody>\n",
              "</table>\n",
              "</div>\n",
              "      <button class=\"colab-df-convert\" onclick=\"convertToInteractive('df-b9f01b86-7873-495c-9d39-9362146cf8c4')\"\n",
              "              title=\"Convert this dataframe to an interactive table.\"\n",
              "              style=\"display:none;\">\n",
              "        \n",
              "  <svg xmlns=\"http://www.w3.org/2000/svg\" height=\"24px\"viewBox=\"0 0 24 24\"\n",
              "       width=\"24px\">\n",
              "    <path d=\"M0 0h24v24H0V0z\" fill=\"none\"/>\n",
              "    <path d=\"M18.56 5.44l.94 2.06.94-2.06 2.06-.94-2.06-.94-.94-2.06-.94 2.06-2.06.94zm-11 1L8.5 8.5l.94-2.06 2.06-.94-2.06-.94L8.5 2.5l-.94 2.06-2.06.94zm10 10l.94 2.06.94-2.06 2.06-.94-2.06-.94-.94-2.06-.94 2.06-2.06.94z\"/><path d=\"M17.41 7.96l-1.37-1.37c-.4-.4-.92-.59-1.43-.59-.52 0-1.04.2-1.43.59L10.3 9.45l-7.72 7.72c-.78.78-.78 2.05 0 2.83L4 21.41c.39.39.9.59 1.41.59.51 0 1.02-.2 1.41-.59l7.78-7.78 2.81-2.81c.8-.78.8-2.07 0-2.86zM5.41 20L4 18.59l7.72-7.72 1.47 1.35L5.41 20z\"/>\n",
              "  </svg>\n",
              "      </button>\n",
              "      \n",
              "  <style>\n",
              "    .colab-df-container {\n",
              "      display:flex;\n",
              "      flex-wrap:wrap;\n",
              "      gap: 12px;\n",
              "    }\n",
              "\n",
              "    .colab-df-convert {\n",
              "      background-color: #E8F0FE;\n",
              "      border: none;\n",
              "      border-radius: 50%;\n",
              "      cursor: pointer;\n",
              "      display: none;\n",
              "      fill: #1967D2;\n",
              "      height: 32px;\n",
              "      padding: 0 0 0 0;\n",
              "      width: 32px;\n",
              "    }\n",
              "\n",
              "    .colab-df-convert:hover {\n",
              "      background-color: #E2EBFA;\n",
              "      box-shadow: 0px 1px 2px rgba(60, 64, 67, 0.3), 0px 1px 3px 1px rgba(60, 64, 67, 0.15);\n",
              "      fill: #174EA6;\n",
              "    }\n",
              "\n",
              "    [theme=dark] .colab-df-convert {\n",
              "      background-color: #3B4455;\n",
              "      fill: #D2E3FC;\n",
              "    }\n",
              "\n",
              "    [theme=dark] .colab-df-convert:hover {\n",
              "      background-color: #434B5C;\n",
              "      box-shadow: 0px 1px 3px 1px rgba(0, 0, 0, 0.15);\n",
              "      filter: drop-shadow(0px 1px 2px rgba(0, 0, 0, 0.3));\n",
              "      fill: #FFFFFF;\n",
              "    }\n",
              "  </style>\n",
              "\n",
              "      <script>\n",
              "        const buttonEl =\n",
              "          document.querySelector('#df-b9f01b86-7873-495c-9d39-9362146cf8c4 button.colab-df-convert');\n",
              "        buttonEl.style.display =\n",
              "          google.colab.kernel.accessAllowed ? 'block' : 'none';\n",
              "\n",
              "        async function convertToInteractive(key) {\n",
              "          const element = document.querySelector('#df-b9f01b86-7873-495c-9d39-9362146cf8c4');\n",
              "          const dataTable =\n",
              "            await google.colab.kernel.invokeFunction('convertToInteractive',\n",
              "                                                     [key], {});\n",
              "          if (!dataTable) return;\n",
              "\n",
              "          const docLinkHtml = 'Like what you see? Visit the ' +\n",
              "            '<a target=\"_blank\" href=https://colab.research.google.com/notebooks/data_table.ipynb>data table notebook</a>'\n",
              "            + ' to learn more about interactive tables.';\n",
              "          element.innerHTML = '';\n",
              "          dataTable['output_type'] = 'display_data';\n",
              "          await google.colab.output.renderOutput(dataTable, element);\n",
              "          const docLink = document.createElement('div');\n",
              "          docLink.innerHTML = docLinkHtml;\n",
              "          element.appendChild(docLink);\n",
              "        }\n",
              "      </script>\n",
              "    </div>\n",
              "  </div>\n",
              "  "
            ]
          },
          "metadata": {},
          "execution_count": 20
        }
      ]
    },
    {
      "cell_type": "code",
      "source": [
        "df.groupby('Processor Name')['Price'].mean().plot(kind='bar')\n",
        "plt.xlabel('Processor Name')\n",
        "plt.ylabel('Price')\n",
        "plt.show()"
      ],
      "metadata": {
        "colab": {
          "base_uri": "https://localhost:8080/",
          "height": 316
        },
        "id": "hXLFehMg-8cs",
        "outputId": "0773e545-47dc-45a5-bf60-959308c2b1f3"
      },
      "execution_count": 21,
      "outputs": [
        {
          "output_type": "display_data",
          "data": {
            "text/plain": [
              "<Figure size 432x288 with 1 Axes>"
            ],
            "image/png": "[encoded data removed]"
          },
          "metadata": {
            "needs_background": "light"
          }
        }
      ]
    },
    {
      "cell_type": "markdown",
      "source": [
        "There's only one laptop with Microsoft processor , but we're not going to take that into consideration. But the laptop's price is also high. Intel laptops are relatively costlier compared to AMD."
      ],
      "metadata": {
        "id": "051r_hpN_KiX"
      }
    },
    {
      "cell_type": "code",
      "source": [
        "df.columns"
      ],
      "metadata": {
        "colab": {
          "base_uri": "https://localhost:8080/"
        },
        "id": "oZvUsKG1-8gC",
        "outputId": "2b796943-a140-4dea-f984-88b5ac57adc1"
      },
      "execution_count": 22,
      "outputs": [
        {
          "output_type": "execute_result",
          "data": {
            "text/plain": [
              "Index(['Description', 'Processor', 'RAM', 'Operating System', 'Storage',\n",
              "       'Display', 'Warranty', 'Price', 'RAM_GB', 'DDR_Version',\n",
              "       'Processor Name', 'Processor Type', 'Generation',\n",
              "       'Operating System Type', 'Storage_GB', 'Disk Drive', 'Size(Inches)',\n",
              "       'Company', 'Graphic Card', 'Touchscreen', 'SSD', 'HDD'],\n",
              "      dtype='object')"
            ]
          },
          "metadata": {},
          "execution_count": 22
        }
      ]
    },
    {
      "cell_type": "code",
      "source": [
        "grouped = df.groupby(['Processor Name','Processor Type'])\n",
        "grouped.size()"
      ],
      "metadata": {
        "colab": {
          "base_uri": "https://localhost:8080/"
        },
        "id": "unvOjaoj-8ii",
        "outputId": "45313e32-65a3-41b4-d8fd-7afdcb739ae7"
      },
      "execution_count": 23,
      "outputs": [
        {
          "output_type": "execute_result",
          "data": {
            "text/plain": [
              "Processor Name  Processor Type\n",
              "AMD             APU                4\n",
              "                Athlon             1\n",
              "                Ryzen 3            2\n",
              "                Ryzen 5           13\n",
              "                Ryzen 7            3\n",
              "Intel           Pentium            4\n",
              "                i3                24\n",
              "                i5                79\n",
              "                i7                32\n",
              "                i9                 4\n",
              "                m3                 1\n",
              "Microsoft       SQ1                1\n",
              "dtype: int64"
            ]
          },
          "metadata": {},
          "execution_count": 23
        }
      ]
    },
    {
      "cell_type": "markdown",
      "source": [
        "Intel and AMD processors also have different type of CPUs and these inturn have different gens. Intel has i3,i5,i7,i9,Pentium CPUs and AMD has Ryzen3,Ryzen5,Ryzen7 CPUs. Core i7 CPUs are better than most Core i5 CPUs, which are in turn better than most Core i3 CPUs which are in turn better than Pentium CPU. They are just names to indicate the relative performance. Core i3 series has only dual-core processors, while the Core i5 and Core i7 series have both dual-core and quad-core processors. Quad-cores are usually better than dual-cores. In general i7 CPUs are expensive than i5 CPUs which are in turn expensive than i3 CPUs. As we go from i3 to i5 to i7 to i9 the performance,speed,price keeps increasing. Similar is the case with AMD Ryzen versions(Ryzen 7 > Ryzen 5 > Ryzen3)\n",
        "So here most of the laptops have Intel processors and most of these Intel processors have i5 CPUs."
      ],
      "metadata": {
        "id": "eAM7zyYo_R4o"
      }
    },
    {
      "cell_type": "code",
      "source": [
        "df.groupby('Processor Type')['Price'].mean().plot(kind='bar',color='red')\n",
        "plt.annotate('',                      # s: str. will leave it blank for no text\n",
        "             xy=(9.5, 230000),        # place head of the arrow at point (between i7 and i9 , Price 230000)\n",
        "             xytext=(7,80000),        # place base of the arrow at point (top of i3 , Price 80000)\n",
        "             xycoords='data',         # will use the coordinate system of the object being annotated \n",
        "             arrowprops=dict(arrowstyle='->', connectionstyle='arc3', color='blue', lw=2)\n",
        "            )\n",
        "\n",
        "# Annotate Text\n",
        "plt.annotate('Prices vs Processor Type(CPU)',   # text to display\n",
        "             xy=(7,110000),                     # start the text at at point (on top of i3 , Price 110000)\n",
        "             rotation=59,                       # based on trial and error to match the arrow\n",
        "             va='bottom',                       # want the text to be vertically 'bottom' aligned\n",
        "             ha='left',                         # want the text to be horizontally 'left' algned.\n",
        "            )\n",
        "plt.ylabel('Price')\n",
        "plt.show()"
      ],
      "metadata": {
        "colab": {
          "base_uri": "https://localhost:8080/",
          "height": 315
        },
        "id": "L4FtkPx2-8mE",
        "outputId": "0eb00112-3508-4279-a3c0-0468323dd1aa"
      },
      "execution_count": 24,
      "outputs": [
        {
          "output_type": "display_data",
          "data": {
            "text/plain": [
              "<Figure size 432x288 with 1 Axes>"
            ],
            "image/png": "[encoded data removed]"
          },
          "metadata": {
            "needs_background": "light"
          }
        }
      ]
    },
    {
      "cell_type": "markdown",
      "source": [
        "So on an average Intel processors are expensive than AMD and in Intel, i9 > i7 > i5 > i3. Similarly in AMD, Ryzen 7 > Ryzen 5 > Ryzen 3\n",
        "\n",
        "Find out about m3 processors"
      ],
      "metadata": {
        "id": "89MHcchd_aXH"
      }
    },
    {
      "cell_type": "code",
      "source": [
        "df['Generation'].unique() # Here 0 represents Not Mentioned(The CPU's generation is not mentioned)\n",
        "# For example in the Processor column,its mentioned AMD Ryzen 5 Quad Core Processor-so here the company and CPU is mentioned but the generation is not"
      ],
      "metadata": {
        "colab": {
          "base_uri": "https://localhost:8080/"
        },
        "id": "TnZjyJKj_Tje",
        "outputId": "93265c49-1676-4c48-8dec-2df10c3d94ec"
      },
      "execution_count": 25,
      "outputs": [
        {
          "output_type": "execute_result",
          "data": {
            "text/plain": [
              "array([10,  8,  9,  2,  0,  3,  5,  7])"
            ]
          },
          "metadata": {},
          "execution_count": 25
        }
      ]
    },
    {
      "cell_type": "markdown",
      "source": [
        "We have seen that i7 > i5 > i3 but here even there is one more distinguishing factor which is the generation of the CPU. In general, in terms of speed and performance 10th gen > 9th gen > 8th gen laptops(given the same CPU configuration). For example, if we wish to compare 2 laptops in terms of speed and perforamnce then we need to look at the type of processors. If both of them are Intel then we need to look at the CPU(if its i7/i5/i3).If both the CPUs are same then we need to go for the generation.If both the generations are same(Intel Core i5 9th gen,Intel Core i5 9th gen) then we need to look at the other specifications of the laptop.\n",
        "So here most of the laptops have CPUs which are of 10th generation. Price of a laptop is determined by all the features/specifications.\n",
        "\n",
        "We have seen that most of the laptops have i5 CPUs. But among i5 let's check the generations!"
      ],
      "metadata": {
        "id": "nrty2l4l_gNe"
      }
    },
    {
      "cell_type": "code",
      "source": [
        "pro_with_gen = pd.crosstab(index=df[\"Generation\"],columns=df[\"Processor Type\"])\n",
        "pro_with_gen"
      ],
      "metadata": {
        "colab": {
          "base_uri": "https://localhost:8080/",
          "height": 332
        },
        "id": "Mm31T2ik_Tmg",
        "outputId": "4200dcfa-e659-4ff1-e029-088b206c7034"
      },
      "execution_count": 26,
      "outputs": [
        {
          "output_type": "execute_result",
          "data": {
            "text/plain": [
              "Processor Type  APU  Athlon  Pentium  Ryzen 3  Ryzen 5  Ryzen 7  SQ1  i3  i5  \\\n",
              "Generation                                                                     \n",
              "0                 4       1        4        2       11        2    1   0   1   \n",
              "2                 0       0        0        0        1        1    0   0   0   \n",
              "3                 0       0        0        0        1        0    0   0   0   \n",
              "5                 0       0        0        0        0        0    0   0   1   \n",
              "7                 0       0        0        0        0        0    0   3   2   \n",
              "8                 0       0        0        0        0        0    0   6  35   \n",
              "9                 0       0        0        0        0        0    0   0   7   \n",
              "10                0       0        0        0        0        0    0  15  33   \n",
              "\n",
              "Processor Type  i7  i9  m3  \n",
              "Generation                  \n",
              "0                0   0   0  \n",
              "2                0   0   0  \n",
              "3                0   0   0  \n",
              "5                0   0   0  \n",
              "7                2   0   1  \n",
              "8               11   1   0  \n",
              "9                9   3   0  \n",
              "10              10   0   0  "
            ],
            "text/html": [
              "\n",
              "  <div id=\"df-ba1b9f73-99b0-49ad-a4bc-0c4152a9809a\">\n",
              "    <div class=\"colab-df-container\">\n",
              "      <div>\n",
              "<style scoped>\n",
              "    .dataframe tbody tr th:only-of-type {\n",
              "        vertical-align: middle;\n",
              "    }\n",
              "\n",
              "    .dataframe tbody tr th {\n",
              "        vertical-align: top;\n",
              "    }\n",
              "\n",
              "    .dataframe thead th {\n",
              "        text-align: right;\n",
              "    }\n",
              "</style>\n",
              "<table border=\"1\" class=\"dataframe\">\n",
              "  <thead>\n",
              "    <tr style=\"text-align: right;\">\n",
              "      <th>Processor Type</th>\n",
              "      <th>APU</th>\n",
              "      <th>Athlon</th>\n",
              "      <th>Pentium</th>\n",
              "      <th>Ryzen 3</th>\n",
              "      <th>Ryzen 5</th>\n",
              "      <th>Ryzen 7</th>\n",
              "      <th>SQ1</th>\n",
              "      <th>i3</th>\n",
              "      <th>i5</th>\n",
              "      <th>i7</th>\n",
              "      <th>i9</th>\n",
              "      <th>m3</th>\n",
              "    </tr>\n",
              "    <tr>\n",
              "      <th>Generation</th>\n",
              "      <th></th>\n",
              "      <th></th>\n",
              "      <th></th>\n",
              "      <th></th>\n",
              "      <th></th>\n",
              "      <th></th>\n",
              "      <th></th>\n",
              "      <th></th>\n",
              "      <th></th>\n",
              "      <th></th>\n",
              "      <th></th>\n",
              "      <th></th>\n",
              "    </tr>\n",
              "  </thead>\n",
              "  <tbody>\n",
              "    <tr>\n",
              "      <th>0</th>\n",
              "      <td>4</td>\n",
              "      <td>1</td>\n",
              "      <td>4</td>\n",
              "      <td>2</td>\n",
              "      <td>11</td>\n",
              "      <td>2</td>\n",
              "      <td>1</td>\n",
              "      <td>0</td>\n",
              "      <td>1</td>\n",
              "      <td>0</td>\n",
              "      <td>0</td>\n",
              "      <td>0</td>\n",
              "    </tr>\n",
              "    <tr>\n",
              "      <th>2</th>\n",
              "      <td>0</td>\n",
              "      <td>0</td>\n",
              "      <td>0</td>\n",
              "      <td>0</td>\n",
              "      <td>1</td>\n",
              "      <td>1</td>\n",
              "      <td>0</td>\n",
              "      <td>0</td>\n",
              "      <td>0</td>\n",
              "      <td>0</td>\n",
              "      <td>0</td>\n",
              "      <td>0</td>\n",
              "    </tr>\n",
              "    <tr>\n",
              "      <th>3</th>\n",
              "      <td>0</td>\n",
              "      <td>0</td>\n",
              "      <td>0</td>\n",
              "      <td>0</td>\n",
              "      <td>1</td>\n",
              "      <td>0</td>\n",
              "      <td>0</td>\n",
              "      <td>0</td>\n",
              "      <td>0</td>\n",
              "      <td>0</td>\n",
              "      <td>0</td>\n",
              "      <td>0</td>\n",
              "    </tr>\n",
              "    <tr>\n",
              "      <th>5</th>\n",
              "      <td>0</td>\n",
              "      <td>0</td>\n",
              "      <td>0</td>\n",
              "      <td>0</td>\n",
              "      <td>0</td>\n",
              "      <td>0</td>\n",
              "      <td>0</td>\n",
              "      <td>0</td>\n",
              "      <td>1</td>\n",
              "      <td>0</td>\n",
              "      <td>0</td>\n",
              "      <td>0</td>\n",
              "    </tr>\n",
              "    <tr>\n",
              "      <th>7</th>\n",
              "      <td>0</td>\n",
              "      <td>0</td>\n",
              "      <td>0</td>\n",
              "      <td>0</td>\n",
              "      <td>0</td>\n",
              "      <td>0</td>\n",
              "      <td>0</td>\n",
              "      <td>3</td>\n",
              "      <td>2</td>\n",
              "      <td>2</td>\n",
              "      <td>0</td>\n",
              "      <td>1</td>\n",
              "    </tr>\n",
              "    <tr>\n",
              "      <th>8</th>\n",
              "      <td>0</td>\n",
              "      <td>0</td>\n",
              "      <td>0</td>\n",
              "      <td>0</td>\n",
              "      <td>0</td>\n",
              "      <td>0</td>\n",
              "      <td>0</td>\n",
              "      <td>6</td>\n",
              "      <td>35</td>\n",
              "      <td>11</td>\n",
              "      <td>1</td>\n",
              "      <td>0</td>\n",
              "    </tr>\n",
              "    <tr>\n",
              "      <th>9</th>\n",
              "      <td>0</td>\n",
              "      <td>0</td>\n",
              "      <td>0</td>\n",
              "      <td>0</td>\n",
              "      <td>0</td>\n",
              "      <td>0</td>\n",
              "      <td>0</td>\n",
              "      <td>0</td>\n",
              "      <td>7</td>\n",
              "      <td>9</td>\n",
              "      <td>3</td>\n",
              "      <td>0</td>\n",
              "    </tr>\n",
              "    <tr>\n",
              "      <th>10</th>\n",
              "      <td>0</td>\n",
              "      <td>0</td>\n",
              "      <td>0</td>\n",
              "      <td>0</td>\n",
              "      <td>0</td>\n",
              "      <td>0</td>\n",
              "      <td>0</td>\n",
              "      <td>15</td>\n",
              "      <td>33</td>\n",
              "      <td>10</td>\n",
              "      <td>0</td>\n",
              "      <td>0</td>\n",
              "    </tr>\n",
              "  </tbody>\n",
              "</table>\n",
              "</div>\n",
              "      <button class=\"colab-df-convert\" onclick=\"convertToInteractive('df-ba1b9f73-99b0-49ad-a4bc-0c4152a9809a')\"\n",
              "              title=\"Convert this dataframe to an interactive table.\"\n",
              "              style=\"display:none;\">\n",
              "        \n",
              "  <svg xmlns=\"http://www.w3.org/2000/svg\" height=\"24px\"viewBox=\"0 0 24 24\"\n",
              "       width=\"24px\">\n",
              "    <path d=\"M0 0h24v24H0V0z\" fill=\"none\"/>\n",
              "    <path d=\"M18.56 5.44l.94 2.06.94-2.06 2.06-.94-2.06-.94-.94-2.06-.94 2.06-2.06.94zm-11 1L8.5 8.5l.94-2.06 2.06-.94-2.06-.94L8.5 2.5l-.94 2.06-2.06.94zm10 10l.94 2.06.94-2.06 2.06-.94-2.06-.94-.94-2.06-.94 2.06-2.06.94z\"/><path d=\"M17.41 7.96l-1.37-1.37c-.4-.4-.92-.59-1.43-.59-.52 0-1.04.2-1.43.59L10.3 9.45l-7.72 7.72c-.78.78-.78 2.05 0 2.83L4 21.41c.39.39.9.59 1.41.59.51 0 1.02-.2 1.41-.59l7.78-7.78 2.81-2.81c.8-.78.8-2.07 0-2.86zM5.41 20L4 18.59l7.72-7.72 1.47 1.35L5.41 20z\"/>\n",
              "  </svg>\n",
              "      </button>\n",
              "      \n",
              "  <style>\n",
              "    .colab-df-container {\n",
              "      display:flex;\n",
              "      flex-wrap:wrap;\n",
              "      gap: 12px;\n",
              "    }\n",
              "\n",
              "    .colab-df-convert {\n",
              "      background-color: #E8F0FE;\n",
              "      border: none;\n",
              "      border-radius: 50%;\n",
              "      cursor: pointer;\n",
              "      display: none;\n",
              "      fill: #1967D2;\n",
              "      height: 32px;\n",
              "      padding: 0 0 0 0;\n",
              "      width: 32px;\n",
              "    }\n",
              "\n",
              "    .colab-df-convert:hover {\n",
              "      background-color: #E2EBFA;\n",
              "      box-shadow: 0px 1px 2px rgba(60, 64, 67, 0.3), 0px 1px 3px 1px rgba(60, 64, 67, 0.15);\n",
              "      fill: #174EA6;\n",
              "    }\n",
              "\n",
              "    [theme=dark] .colab-df-convert {\n",
              "      background-color: #3B4455;\n",
              "      fill: #D2E3FC;\n",
              "    }\n",
              "\n",
              "    [theme=dark] .colab-df-convert:hover {\n",
              "      background-color: #434B5C;\n",
              "      box-shadow: 0px 1px 3px 1px rgba(0, 0, 0, 0.15);\n",
              "      filter: drop-shadow(0px 1px 2px rgba(0, 0, 0, 0.3));\n",
              "      fill: #FFFFFF;\n",
              "    }\n",
              "  </style>\n",
              "\n",
              "      <script>\n",
              "        const buttonEl =\n",
              "          document.querySelector('#df-ba1b9f73-99b0-49ad-a4bc-0c4152a9809a button.colab-df-convert');\n",
              "        buttonEl.style.display =\n",
              "          google.colab.kernel.accessAllowed ? 'block' : 'none';\n",
              "\n",
              "        async function convertToInteractive(key) {\n",
              "          const element = document.querySelector('#df-ba1b9f73-99b0-49ad-a4bc-0c4152a9809a');\n",
              "          const dataTable =\n",
              "            await google.colab.kernel.invokeFunction('convertToInteractive',\n",
              "                                                     [key], {});\n",
              "          if (!dataTable) return;\n",
              "\n",
              "          const docLinkHtml = 'Like what you see? Visit the ' +\n",
              "            '<a target=\"_blank\" href=https://colab.research.google.com/notebooks/data_table.ipynb>data table notebook</a>'\n",
              "            + ' to learn more about interactive tables.';\n",
              "          element.innerHTML = '';\n",
              "          dataTable['output_type'] = 'display_data';\n",
              "          await google.colab.output.renderOutput(dataTable, element);\n",
              "          const docLink = document.createElement('div');\n",
              "          docLink.innerHTML = docLinkHtml;\n",
              "          element.appendChild(docLink);\n",
              "        }\n",
              "      </script>\n",
              "    </div>\n",
              "  </div>\n",
              "  "
            ]
          },
          "metadata": {},
          "execution_count": 26
        }
      ]
    },
    {
      "cell_type": "code",
      "source": [
        "df['Operating System Type'].value_counts()"
      ],
      "metadata": {
        "colab": {
          "base_uri": "https://localhost:8080/"
        },
        "id": "XhpN8W_0_Tpa",
        "outputId": "055e15f6-990b-4615-e24b-7f182263faac"
      },
      "execution_count": 27,
      "outputs": [
        {
          "output_type": "execute_result",
          "data": {
            "text/plain": [
              "Windows    154\n",
              "Mac         10\n",
              "DOS          3\n",
              "Linux        1\n",
              "Name: Operating System Type, dtype: int64"
            ]
          },
          "metadata": {},
          "execution_count": 27
        }
      ]
    },
    {
      "cell_type": "markdown",
      "source": [
        "Almost 90% of the laptops use Windows as the main Operating System.Very few laptops use DOS and Linux. Even Mac is very famous but majority of them use Windows. Laptops can also be dual booted(can have more than 2 OS). For example, one laptop can have Windows as well as Linux(this is not supported by Mac) but here we deal with only one OS."
      ],
      "metadata": {
        "id": "WsbhmL7h_oX2"
      }
    },
    {
      "cell_type": "code",
      "source": [
        "pd.pivot_table(df,index='Operating System Type',values='Price')"
      ],
      "metadata": {
        "colab": {
          "base_uri": "https://localhost:8080/",
          "height": 206
        },
        "id": "-ZoKxaz8_TsN",
        "outputId": "52aad4c1-c7fc-4536-d91f-af3ce5e83cc9"
      },
      "execution_count": 28,
      "outputs": [
        {
          "output_type": "execute_result",
          "data": {
            "text/plain": [
              "                               Price\n",
              "Operating System Type               \n",
              "DOS                     46412.333333\n",
              "Linux                   43990.000000\n",
              "Mac                    181077.600000\n",
              "Windows                 70107.103896"
            ],
            "text/html": [
              "\n",
              "  <div id=\"df-3f0bccfd-c797-4a42-9092-19d0bc31afc9\">\n",
              "    <div class=\"colab-df-container\">\n",
              "      <div>\n",
              "<style scoped>\n",
              "    .dataframe tbody tr th:only-of-type {\n",
              "        vertical-align: middle;\n",
              "    }\n",
              "\n",
              "    .dataframe tbody tr th {\n",
              "        vertical-align: top;\n",
              "    }\n",
              "\n",
              "    .dataframe thead th {\n",
              "        text-align: right;\n",
              "    }\n",
              "</style>\n",
              "<table border=\"1\" class=\"dataframe\">\n",
              "  <thead>\n",
              "    <tr style=\"text-align: right;\">\n",
              "      <th></th>\n",
              "      <th>Price</th>\n",
              "    </tr>\n",
              "    <tr>\n",
              "      <th>Operating System Type</th>\n",
              "      <th></th>\n",
              "    </tr>\n",
              "  </thead>\n",
              "  <tbody>\n",
              "    <tr>\n",
              "      <th>DOS</th>\n",
              "      <td>46412.333333</td>\n",
              "    </tr>\n",
              "    <tr>\n",
              "      <th>Linux</th>\n",
              "      <td>43990.000000</td>\n",
              "    </tr>\n",
              "    <tr>\n",
              "      <th>Mac</th>\n",
              "      <td>181077.600000</td>\n",
              "    </tr>\n",
              "    <tr>\n",
              "      <th>Windows</th>\n",
              "      <td>70107.103896</td>\n",
              "    </tr>\n",
              "  </tbody>\n",
              "</table>\n",
              "</div>\n",
              "      <button class=\"colab-df-convert\" onclick=\"convertToInteractive('df-3f0bccfd-c797-4a42-9092-19d0bc31afc9')\"\n",
              "              title=\"Convert this dataframe to an interactive table.\"\n",
              "              style=\"display:none;\">\n",
              "        \n",
              "  <svg xmlns=\"http://www.w3.org/2000/svg\" height=\"24px\"viewBox=\"0 0 24 24\"\n",
              "       width=\"24px\">\n",
              "    <path d=\"M0 0h24v24H0V0z\" fill=\"none\"/>\n",
              "    <path d=\"M18.56 5.44l.94 2.06.94-2.06 2.06-.94-2.06-.94-.94-2.06-.94 2.06-2.06.94zm-11 1L8.5 8.5l.94-2.06 2.06-.94-2.06-.94L8.5 2.5l-.94 2.06-2.06.94zm10 10l.94 2.06.94-2.06 2.06-.94-2.06-.94-.94-2.06-.94 2.06-2.06.94z\"/><path d=\"M17.41 7.96l-1.37-1.37c-.4-.4-.92-.59-1.43-.59-.52 0-1.04.2-1.43.59L10.3 9.45l-7.72 7.72c-.78.78-.78 2.05 0 2.83L4 21.41c.39.39.9.59 1.41.59.51 0 1.02-.2 1.41-.59l7.78-7.78 2.81-2.81c.8-.78.8-2.07 0-2.86zM5.41 20L4 18.59l7.72-7.72 1.47 1.35L5.41 20z\"/>\n",
              "  </svg>\n",
              "      </button>\n",
              "      \n",
              "  <style>\n",
              "    .colab-df-container {\n",
              "      display:flex;\n",
              "      flex-wrap:wrap;\n",
              "      gap: 12px;\n",
              "    }\n",
              "\n",
              "    .colab-df-convert {\n",
              "      background-color: #E8F0FE;\n",
              "      border: none;\n",
              "      border-radius: 50%;\n",
              "      cursor: pointer;\n",
              "      display: none;\n",
              "      fill: #1967D2;\n",
              "      height: 32px;\n",
              "      padding: 0 0 0 0;\n",
              "      width: 32px;\n",
              "    }\n",
              "\n",
              "    .colab-df-convert:hover {\n",
              "      background-color: #E2EBFA;\n",
              "      box-shadow: 0px 1px 2px rgba(60, 64, 67, 0.3), 0px 1px 3px 1px rgba(60, 64, 67, 0.15);\n",
              "      fill: #174EA6;\n",
              "    }\n",
              "\n",
              "    [theme=dark] .colab-df-convert {\n",
              "      background-color: #3B4455;\n",
              "      fill: #D2E3FC;\n",
              "    }\n",
              "\n",
              "    [theme=dark] .colab-df-convert:hover {\n",
              "      background-color: #434B5C;\n",
              "      box-shadow: 0px 1px 3px 1px rgba(0, 0, 0, 0.15);\n",
              "      filter: drop-shadow(0px 1px 2px rgba(0, 0, 0, 0.3));\n",
              "      fill: #FFFFFF;\n",
              "    }\n",
              "  </style>\n",
              "\n",
              "      <script>\n",
              "        const buttonEl =\n",
              "          document.querySelector('#df-3f0bccfd-c797-4a42-9092-19d0bc31afc9 button.colab-df-convert');\n",
              "        buttonEl.style.display =\n",
              "          google.colab.kernel.accessAllowed ? 'block' : 'none';\n",
              "\n",
              "        async function convertToInteractive(key) {\n",
              "          const element = document.querySelector('#df-3f0bccfd-c797-4a42-9092-19d0bc31afc9');\n",
              "          const dataTable =\n",
              "            await google.colab.kernel.invokeFunction('convertToInteractive',\n",
              "                                                     [key], {});\n",
              "          if (!dataTable) return;\n",
              "\n",
              "          const docLinkHtml = 'Like what you see? Visit the ' +\n",
              "            '<a target=\"_blank\" href=https://colab.research.google.com/notebooks/data_table.ipynb>data table notebook</a>'\n",
              "            + ' to learn more about interactive tables.';\n",
              "          element.innerHTML = '';\n",
              "          dataTable['output_type'] = 'display_data';\n",
              "          await google.colab.output.renderOutput(dataTable, element);\n",
              "          const docLink = document.createElement('div');\n",
              "          docLink.innerHTML = docLinkHtml;\n",
              "          element.appendChild(docLink);\n",
              "        }\n",
              "      </script>\n",
              "    </div>\n",
              "  </div>\n",
              "  "
            ]
          },
          "metadata": {},
          "execution_count": 28
        }
      ]
    },
    {
      "cell_type": "markdown",
      "source": [
        "We can clearly see that the price of Macbook is very high. We have already seen this before(even though many other laptops had 8GB RAM, but particularly the price of Mac with 8GB was very high)"
      ],
      "metadata": {
        "id": "IXn6ETiw_tX3"
      }
    },
    {
      "cell_type": "code",
      "source": [
        "pd.pivot_table(df, index = ['RAM_GB','Operating System Type'], values = 'Price').sort_values('RAM_GB', ascending = False)"
      ],
      "metadata": {
        "colab": {
          "base_uri": "https://localhost:8080/",
          "height": 363
        },
        "id": "HvRfr1tV_q9M",
        "outputId": "08377f24-4c6e-4a5d-a55e-e60e3ddc8907"
      },
      "execution_count": 29,
      "outputs": [
        {
          "output_type": "execute_result",
          "data": {
            "text/plain": [
              "                                      Price\n",
              "RAM_GB Operating System Type               \n",
              "32     Windows                271090.500000\n",
              "16     Mac                    210627.142857\n",
              "       Windows                139506.846154\n",
              "8      DOS                     79257.000000\n",
              "       Linux                   43990.000000\n",
              "       Mac                    112128.666667\n",
              "       Windows                 67027.869159\n",
              "4      DOS                     29990.000000\n",
              "       Windows                 39648.187500"
            ],
            "text/html": [
              "\n",
              "  <div id=\"df-647983b2-03f6-44e9-b154-4167428ed944\">\n",
              "    <div class=\"colab-df-container\">\n",
              "      <div>\n",
              "<style scoped>\n",
              "    .dataframe tbody tr th:only-of-type {\n",
              "        vertical-align: middle;\n",
              "    }\n",
              "\n",
              "    .dataframe tbody tr th {\n",
              "        vertical-align: top;\n",
              "    }\n",
              "\n",
              "    .dataframe thead th {\n",
              "        text-align: right;\n",
              "    }\n",
              "</style>\n",
              "<table border=\"1\" class=\"dataframe\">\n",
              "  <thead>\n",
              "    <tr style=\"text-align: right;\">\n",
              "      <th></th>\n",
              "      <th></th>\n",
              "      <th>Price</th>\n",
              "    </tr>\n",
              "    <tr>\n",
              "      <th>RAM_GB</th>\n",
              "      <th>Operating System Type</th>\n",
              "      <th></th>\n",
              "    </tr>\n",
              "  </thead>\n",
              "  <tbody>\n",
              "    <tr>\n",
              "      <th>32</th>\n",
              "      <th>Windows</th>\n",
              "      <td>271090.500000</td>\n",
              "    </tr>\n",
              "    <tr>\n",
              "      <th rowspan=\"2\" valign=\"top\">16</th>\n",
              "      <th>Mac</th>\n",
              "      <td>210627.142857</td>\n",
              "    </tr>\n",
              "    <tr>\n",
              "      <th>Windows</th>\n",
              "      <td>139506.846154</td>\n",
              "    </tr>\n",
              "    <tr>\n",
              "      <th rowspan=\"4\" valign=\"top\">8</th>\n",
              "      <th>DOS</th>\n",
              "      <td>79257.000000</td>\n",
              "    </tr>\n",
              "    <tr>\n",
              "      <th>Linux</th>\n",
              "      <td>43990.000000</td>\n",
              "    </tr>\n",
              "    <tr>\n",
              "      <th>Mac</th>\n",
              "      <td>112128.666667</td>\n",
              "    </tr>\n",
              "    <tr>\n",
              "      <th>Windows</th>\n",
              "      <td>67027.869159</td>\n",
              "    </tr>\n",
              "    <tr>\n",
              "      <th rowspan=\"2\" valign=\"top\">4</th>\n",
              "      <th>DOS</th>\n",
              "      <td>29990.000000</td>\n",
              "    </tr>\n",
              "    <tr>\n",
              "      <th>Windows</th>\n",
              "      <td>39648.187500</td>\n",
              "    </tr>\n",
              "  </tbody>\n",
              "</table>\n",
              "</div>\n",
              "      <button class=\"colab-df-convert\" onclick=\"convertToInteractive('df-647983b2-03f6-44e9-b154-4167428ed944')\"\n",
              "              title=\"Convert this dataframe to an interactive table.\"\n",
              "              style=\"display:none;\">\n",
              "        \n",
              "  <svg xmlns=\"http://www.w3.org/2000/svg\" height=\"24px\"viewBox=\"0 0 24 24\"\n",
              "       width=\"24px\">\n",
              "    <path d=\"M0 0h24v24H0V0z\" fill=\"none\"/>\n",
              "    <path d=\"M18.56 5.44l.94 2.06.94-2.06 2.06-.94-2.06-.94-.94-2.06-.94 2.06-2.06.94zm-11 1L8.5 8.5l.94-2.06 2.06-.94-2.06-.94L8.5 2.5l-.94 2.06-2.06.94zm10 10l.94 2.06.94-2.06 2.06-.94-2.06-.94-.94-2.06-.94 2.06-2.06.94z\"/><path d=\"M17.41 7.96l-1.37-1.37c-.4-.4-.92-.59-1.43-.59-.52 0-1.04.2-1.43.59L10.3 9.45l-7.72 7.72c-.78.78-.78 2.05 0 2.83L4 21.41c.39.39.9.59 1.41.59.51 0 1.02-.2 1.41-.59l7.78-7.78 2.81-2.81c.8-.78.8-2.07 0-2.86zM5.41 20L4 18.59l7.72-7.72 1.47 1.35L5.41 20z\"/>\n",
              "  </svg>\n",
              "      </button>\n",
              "      \n",
              "  <style>\n",
              "    .colab-df-container {\n",
              "      display:flex;\n",
              "      flex-wrap:wrap;\n",
              "      gap: 12px;\n",
              "    }\n",
              "\n",
              "    .colab-df-convert {\n",
              "      background-color: #E8F0FE;\n",
              "      border: none;\n",
              "      border-radius: 50%;\n",
              "      cursor: pointer;\n",
              "      display: none;\n",
              "      fill: #1967D2;\n",
              "      height: 32px;\n",
              "      padding: 0 0 0 0;\n",
              "      width: 32px;\n",
              "    }\n",
              "\n",
              "    .colab-df-convert:hover {\n",
              "      background-color: #E2EBFA;\n",
              "      box-shadow: 0px 1px 2px rgba(60, 64, 67, 0.3), 0px 1px 3px 1px rgba(60, 64, 67, 0.15);\n",
              "      fill: #174EA6;\n",
              "    }\n",
              "\n",
              "    [theme=dark] .colab-df-convert {\n",
              "      background-color: #3B4455;\n",
              "      fill: #D2E3FC;\n",
              "    }\n",
              "\n",
              "    [theme=dark] .colab-df-convert:hover {\n",
              "      background-color: #434B5C;\n",
              "      box-shadow: 0px 1px 3px 1px rgba(0, 0, 0, 0.15);\n",
              "      filter: drop-shadow(0px 1px 2px rgba(0, 0, 0, 0.3));\n",
              "      fill: #FFFFFF;\n",
              "    }\n",
              "  </style>\n",
              "\n",
              "      <script>\n",
              "        const buttonEl =\n",
              "          document.querySelector('#df-647983b2-03f6-44e9-b154-4167428ed944 button.colab-df-convert');\n",
              "        buttonEl.style.display =\n",
              "          google.colab.kernel.accessAllowed ? 'block' : 'none';\n",
              "\n",
              "        async function convertToInteractive(key) {\n",
              "          const element = document.querySelector('#df-647983b2-03f6-44e9-b154-4167428ed944');\n",
              "          const dataTable =\n",
              "            await google.colab.kernel.invokeFunction('convertToInteractive',\n",
              "                                                     [key], {});\n",
              "          if (!dataTable) return;\n",
              "\n",
              "          const docLinkHtml = 'Like what you see? Visit the ' +\n",
              "            '<a target=\"_blank\" href=https://colab.research.google.com/notebooks/data_table.ipynb>data table notebook</a>'\n",
              "            + ' to learn more about interactive tables.';\n",
              "          element.innerHTML = '';\n",
              "          dataTable['output_type'] = 'display_data';\n",
              "          await google.colab.output.renderOutput(dataTable, element);\n",
              "          const docLink = document.createElement('div');\n",
              "          docLink.innerHTML = docLinkHtml;\n",
              "          element.appendChild(docLink);\n",
              "        }\n",
              "      </script>\n",
              "    </div>\n",
              "  </div>\n",
              "  "
            ]
          },
          "metadata": {},
          "execution_count": 29
        }
      ]
    },
    {
      "cell_type": "markdown",
      "source": [
        "We have already seen that even though its 8GB RAM, the price for Mac was very high.From this table its evident that Mac is very expensive compared to Windows(the price of the laptop depends on many other features as well).The Price column shows us the average price for all the categories."
      ],
      "metadata": {
        "id": "6Uaqe8RD_zPF"
      }
    },
    {
      "cell_type": "code",
      "source": [
        "df['Disk Drive'].value_counts()"
      ],
      "metadata": {
        "colab": {
          "base_uri": "https://localhost:8080/"
        },
        "id": "-K3mdl2Y_rD-",
        "outputId": "e9397451-b5b5-4d48-c1a3-0fc586332789"
      },
      "execution_count": 30,
      "outputs": [
        {
          "output_type": "execute_result",
          "data": {
            "text/plain": [
              "SSD     88\n",
              "Both    46\n",
              "HDD     34\n",
              "Name: Disk Drive, dtype: int64"
            ]
          },
          "metadata": {},
          "execution_count": 30
        }
      ]
    },
    {
      "cell_type": "code",
      "source": [
        "sns.countplot(x=\"Disk Drive\", hue=\"Processor Type\", data=df)"
      ],
      "metadata": {
        "colab": {
          "base_uri": "https://localhost:8080/",
          "height": 296
        },
        "id": "iy7WXXRl_rHA",
        "outputId": "103449d0-2b7f-4b23-eb45-d33e67e90fde"
      },
      "execution_count": 31,
      "outputs": [
        {
          "output_type": "execute_result",
          "data": {
            "text/plain": [
              "<matplotlib.axes._subplots.AxesSubplot at 0x7f8897406250>"
            ]
          },
          "metadata": {},
          "execution_count": 31
        },
        {
          "output_type": "display_data",
          "data": {
            "text/plain": [
              "<Figure size 432x288 with 1 Axes>"
            ],
            "image/png": "[encoded data removed]"
          },
          "metadata": {
            "needs_background": "light"
          }
        }
      ]
    },
    {
      "cell_type": "markdown",
      "source": [
        "Both in the sense laptop contains both HDD and SSD."
      ],
      "metadata": {
        "id": "3Oc0pzji_6YP"
      }
    },
    {
      "cell_type": "code",
      "source": [
        "df['Size(Inches)'].value_counts()"
      ],
      "metadata": {
        "colab": {
          "base_uri": "https://localhost:8080/"
        },
        "id": "jIC-K3ex_rJl",
        "outputId": "ec03436a-d8bf-4230-f046-0d843d4b2133"
      },
      "execution_count": 32,
      "outputs": [
        {
          "output_type": "execute_result",
          "data": {
            "text/plain": [
              "14.0    65\n",
              "15.6    65\n",
              "13.3    18\n",
              "13.0     6\n",
              "17.3     4\n",
              "16.0     3\n",
              "10.0     3\n",
              "15.0     2\n",
              "12.3     1\n",
              "15.4     1\n",
              "Name: Size(Inches), dtype: int64"
            ]
          },
          "metadata": {},
          "execution_count": 32
        }
      ]
    },
    {
      "cell_type": "markdown",
      "source": [
        "As we can see most of the laptops nowadays are of 15.6 inches"
      ],
      "metadata": {
        "id": "X1yXJ_Kr__EF"
      }
    },
    {
      "cell_type": "code",
      "source": [
        "df[df['Size(Inches)']==14.0]['Operating System Type']"
      ],
      "metadata": {
        "colab": {
          "base_uri": "https://localhost:8080/"
        },
        "id": "cRojS1k0_rMb",
        "outputId": "d313fec7-c858-4da0-a74d-ba061b3183a1"
      },
      "execution_count": 33,
      "outputs": [
        {
          "output_type": "execute_result",
          "data": {
            "text/plain": [
              "1      Windows\n",
              "3      Windows\n",
              "4      Windows\n",
              "5      Windows\n",
              "9      Windows\n",
              "        ...   \n",
              "144    Windows\n",
              "152    Windows\n",
              "155    Windows\n",
              "161    Windows\n",
              "163    Windows\n",
              "Name: Operating System Type, Length: 65, dtype: object"
            ]
          },
          "metadata": {},
          "execution_count": 33
        }
      ]
    },
    {
      "cell_type": "code",
      "source": [
        "df['Company'].value_counts()"
      ],
      "metadata": {
        "colab": {
          "base_uri": "https://localhost:8080/"
        },
        "id": "HhAIuw0tABom",
        "outputId": "aa0f55ca-c88a-46a1-f1a5-89abb267999a"
      },
      "execution_count": 34,
      "outputs": [
        {
          "output_type": "execute_result",
          "data": {
            "text/plain": [
              "Asus         45\n",
              "HP           37\n",
              "Lenovo       26\n",
              "Acer         22\n",
              "Apple         9\n",
              "Dell          8\n",
              "Microsoft     8\n",
              "MSI           6\n",
              "Alienware     4\n",
              "MarQ          1\n",
              "Avita         1\n",
              "Nexstgo       1\n",
              "Name: Company, dtype: int64"
            ]
          },
          "metadata": {},
          "execution_count": 34
        }
      ]
    },
    {
      "cell_type": "markdown",
      "source": [
        "So the maximum number of laptops are of Asus. We have already seen that the price of Apple Macbook is very high but let's see if there is any other company which beats Apple in terms of price."
      ],
      "metadata": {
        "id": "Sl7J3U9hAIuo"
      }
    },
    {
      "cell_type": "code",
      "source": [
        "sns.barplot(\"Company\", y=\"Price\", data=df,\n",
        "                 palette=\"Blues_d\")"
      ],
      "metadata": {
        "colab": {
          "base_uri": "https://localhost:8080/",
          "height": 351
        },
        "id": "oJLNsTB8ABrd",
        "outputId": "c7f70876-8033-48f4-bcd4-0fcb63cb1291"
      },
      "execution_count": 35,
      "outputs": [
        {
          "output_type": "stream",
          "name": "stderr",
          "text": [
            "/usr/local/lib/python3.7/dist-packages/seaborn/_decorators.py:43: FutureWarning: Pass the following variable as a keyword arg: x. From version 0.12, the only valid positional argument will be `data`, and passing other arguments without an explicit keyword will result in an error or misinterpretation.\n",
            "  FutureWarning\n"
          ]
        },
        {
          "output_type": "execute_result",
          "data": {
            "text/plain": [
              "<matplotlib.axes._subplots.AxesSubplot at 0x7f8897199950>"
            ]
          },
          "metadata": {},
          "execution_count": 35
        },
        {
          "output_type": "display_data",
          "data": {
            "text/plain": [
              "<Figure size 432x288 with 1 Axes>"
            ],
            "image/png": "[encoded data removed]"
          },
          "metadata": {
            "needs_background": "light"
          }
        }
      ]
    },
    {
      "cell_type": "markdown",
      "source": [
        "There are only 4 Alienware laptops but the price is very costly and this beats Apple mac as well. They are the most expensive among all the companies. After Alienware it's again Apple.\n",
        "\n",
        "Previously I just stated that i9 processors are expensive than i7 which in turn as expensive than i5 and i3. But is that true?"
      ],
      "metadata": {
        "id": "TE841XYTAOgv"
      }
    },
    {
      "cell_type": "code",
      "source": [
        "pd.pivot_table(df, index = ['Company','Processor Type'], values = 'Price').sort_values('Company', ascending = False)"
      ],
      "metadata": {
        "colab": {
          "base_uri": "https://localhost:8080/",
          "height": 1000
        },
        "id": "wOVyFOqNABvA",
        "outputId": "a5063388-b614-4f96-834c-5b565ffdd119"
      },
      "execution_count": 36,
      "outputs": [
        {
          "output_type": "execute_result",
          "data": {
            "text/plain": [
              "                                  Price\n",
              "Company   Processor Type               \n",
              "Nexstgo   i5               97990.000000\n",
              "Microsoft i7              135990.000000\n",
              "          i5               96657.000000\n",
              "          SQ1              96657.000000\n",
              "          Ryzen 5          93999.000000\n",
              "          Pentium          38599.000000\n",
              "MarQ      i5               41990.000000\n",
              "MSI       i7              103743.400000\n",
              "          i5               60990.000000\n",
              "Lenovo    i3               37490.000000\n",
              "          APU              20990.000000\n",
              "          i7               82931.000000\n",
              "          i5               67756.600000\n",
              "HP        i7              148294.750000\n",
              "          i5               74169.214286\n",
              "          i3               42320.000000\n",
              "          Ryzen 7          57990.000000\n",
              "          Ryzen 5          59990.000000\n",
              "          Ryzen 3          31620.000000\n",
              "          APU              25990.000000\n",
              "Dell      i7               89240.000000\n",
              "          i5               61669.000000\n",
              "          Ryzen 5          74990.000000\n",
              "          i3               59437.000000\n",
              "Avita     i5               41990.000000\n",
              "Asus      Ryzen 5          45490.000000\n",
              "          i9              244191.000000\n",
              "          i7               85062.200000\n",
              "          i5               59149.000000\n",
              "          i3               43990.000000\n",
              "          Ryzen 7          74910.000000\n",
              "          APU              26990.000000\n",
              "Apple     i7              214945.000000\n",
              "          i5              159774.250000\n",
              "          m3              112990.000000\n",
              "          i9              239900.000000\n",
              "Alienware i9              297990.000000\n",
              "          i7              189990.000000\n",
              "Acer      i3               43410.500000\n",
              "          Ryzen 7          61990.000000\n",
              "          Pentium          27420.000000\n",
              "          i5               62698.333333\n",
              "          i7               90990.000000\n",
              "          Athlon           39999.000000"
            ],
            "text/html": [
              "\n",
              "  <div id=\"df-354a9031-d0f9-420a-bdc1-14612f38e07a\">\n",
              "    <div class=\"colab-df-container\">\n",
              "      <div>\n",
              "<style scoped>\n",
              "    .dataframe tbody tr th:only-of-type {\n",
              "        vertical-align: middle;\n",
              "    }\n",
              "\n",
              "    .dataframe tbody tr th {\n",
              "        vertical-align: top;\n",
              "    }\n",
              "\n",
              "    .dataframe thead th {\n",
              "        text-align: right;\n",
              "    }\n",
              "</style>\n",
              "<table border=\"1\" class=\"dataframe\">\n",
              "  <thead>\n",
              "    <tr style=\"text-align: right;\">\n",
              "      <th></th>\n",
              "      <th></th>\n",
              "      <th>Price</th>\n",
              "    </tr>\n",
              "    <tr>\n",
              "      <th>Company</th>\n",
              "      <th>Processor Type</th>\n",
              "      <th></th>\n",
              "    </tr>\n",
              "  </thead>\n",
              "  <tbody>\n",
              "    <tr>\n",
              "      <th>Nexstgo</th>\n",
              "      <th>i5</th>\n",
              "      <td>97990.000000</td>\n",
              "    </tr>\n",
              "    <tr>\n",
              "      <th rowspan=\"5\" valign=\"top\">Microsoft</th>\n",
              "      <th>i7</th>\n",
              "      <td>135990.000000</td>\n",
              "    </tr>\n",
              "    <tr>\n",
              "      <th>i5</th>\n",
              "      <td>96657.000000</td>\n",
              "    </tr>\n",
              "    <tr>\n",
              "      <th>SQ1</th>\n",
              "      <td>96657.000000</td>\n",
              "    </tr>\n",
              "    <tr>\n",
              "      <th>Ryzen 5</th>\n",
              "      <td>93999.000000</td>\n",
              "    </tr>\n",
              "    <tr>\n",
              "      <th>Pentium</th>\n",
              "      <td>38599.000000</td>\n",
              "    </tr>\n",
              "    <tr>\n",
              "      <th>MarQ</th>\n",
              "      <th>i5</th>\n",
              "      <td>41990.000000</td>\n",
              "    </tr>\n",
              "    <tr>\n",
              "      <th rowspan=\"2\" valign=\"top\">MSI</th>\n",
              "      <th>i7</th>\n",
              "      <td>103743.400000</td>\n",
              "    </tr>\n",
              "    <tr>\n",
              "      <th>i5</th>\n",
              "      <td>60990.000000</td>\n",
              "    </tr>\n",
              "    <tr>\n",
              "      <th rowspan=\"4\" valign=\"top\">Lenovo</th>\n",
              "      <th>i3</th>\n",
              "      <td>37490.000000</td>\n",
              "    </tr>\n",
              "    <tr>\n",
              "      <th>APU</th>\n",
              "      <td>20990.000000</td>\n",
              "    </tr>\n",
              "    <tr>\n",
              "      <th>i7</th>\n",
              "      <td>82931.000000</td>\n",
              "    </tr>\n",
              "    <tr>\n",
              "      <th>i5</th>\n",
              "      <td>67756.600000</td>\n",
              "    </tr>\n",
              "    <tr>\n",
              "      <th rowspan=\"7\" valign=\"top\">HP</th>\n",
              "      <th>i7</th>\n",
              "      <td>148294.750000</td>\n",
              "    </tr>\n",
              "    <tr>\n",
              "      <th>i5</th>\n",
              "      <td>74169.214286</td>\n",
              "    </tr>\n",
              "    <tr>\n",
              "      <th>i3</th>\n",
              "      <td>42320.000000</td>\n",
              "    </tr>\n",
              "    <tr>\n",
              "      <th>Ryzen 7</th>\n",
              "      <td>57990.000000</td>\n",
              "    </tr>\n",
              "    <tr>\n",
              "      <th>Ryzen 5</th>\n",
              "      <td>59990.000000</td>\n",
              "    </tr>\n",
              "    <tr>\n",
              "      <th>Ryzen 3</th>\n",
              "      <td>31620.000000</td>\n",
              "    </tr>\n",
              "    <tr>\n",
              "      <th>APU</th>\n",
              "      <td>25990.000000</td>\n",
              "    </tr>\n",
              "    <tr>\n",
              "      <th rowspan=\"4\" valign=\"top\">Dell</th>\n",
              "      <th>i7</th>\n",
              "      <td>89240.000000</td>\n",
              "    </tr>\n",
              "    <tr>\n",
              "      <th>i5</th>\n",
              "      <td>61669.000000</td>\n",
              "    </tr>\n",
              "    <tr>\n",
              "      <th>Ryzen 5</th>\n",
              "      <td>74990.000000</td>\n",
              "    </tr>\n",
              "    <tr>\n",
              "      <th>i3</th>\n",
              "      <td>59437.000000</td>\n",
              "    </tr>\n",
              "    <tr>\n",
              "      <th>Avita</th>\n",
              "      <th>i5</th>\n",
              "      <td>41990.000000</td>\n",
              "    </tr>\n",
              "    <tr>\n",
              "      <th rowspan=\"7\" valign=\"top\">Asus</th>\n",
              "      <th>Ryzen 5</th>\n",
              "      <td>45490.000000</td>\n",
              "    </tr>\n",
              "    <tr>\n",
              "      <th>i9</th>\n",
              "      <td>244191.000000</td>\n",
              "    </tr>\n",
              "    <tr>\n",
              "      <th>i7</th>\n",
              "      <td>85062.200000</td>\n",
              "    </tr>\n",
              "    <tr>\n",
              "      <th>i5</th>\n",
              "      <td>59149.000000</td>\n",
              "    </tr>\n",
              "    <tr>\n",
              "      <th>i3</th>\n",
              "      <td>43990.000000</td>\n",
              "    </tr>\n",
              "    <tr>\n",
              "      <th>Ryzen 7</th>\n",
              "      <td>74910.000000</td>\n",
              "    </tr>\n",
              "    <tr>\n",
              "      <th>APU</th>\n",
              "      <td>26990.000000</td>\n",
              "    </tr>\n",
              "    <tr>\n",
              "      <th rowspan=\"4\" valign=\"top\">Apple</th>\n",
              "      <th>i7</th>\n",
              "      <td>214945.000000</td>\n",
              "    </tr>\n",
              "    <tr>\n",
              "      <th>i5</th>\n",
              "      <td>159774.250000</td>\n",
              "    </tr>\n",
              "    <tr>\n",
              "      <th>m3</th>\n",
              "      <td>112990.000000</td>\n",
              "    </tr>\n",
              "    <tr>\n",
              "      <th>i9</th>\n",
              "      <td>239900.000000</td>\n",
              "    </tr>\n",
              "    <tr>\n",
              "      <th rowspan=\"2\" valign=\"top\">Alienware</th>\n",
              "      <th>i9</th>\n",
              "      <td>297990.000000</td>\n",
              "    </tr>\n",
              "    <tr>\n",
              "      <th>i7</th>\n",
              "      <td>189990.000000</td>\n",
              "    </tr>\n",
              "    <tr>\n",
              "      <th rowspan=\"6\" valign=\"top\">Acer</th>\n",
              "      <th>i3</th>\n",
              "      <td>43410.500000</td>\n",
              "    </tr>\n",
              "    <tr>\n",
              "      <th>Ryzen 7</th>\n",
              "      <td>61990.000000</td>\n",
              "    </tr>\n",
              "    <tr>\n",
              "      <th>Pentium</th>\n",
              "      <td>27420.000000</td>\n",
              "    </tr>\n",
              "    <tr>\n",
              "      <th>i5</th>\n",
              "      <td>62698.333333</td>\n",
              "    </tr>\n",
              "    <tr>\n",
              "      <th>i7</th>\n",
              "      <td>90990.000000</td>\n",
              "    </tr>\n",
              "    <tr>\n",
              "      <th>Athlon</th>\n",
              "      <td>39999.000000</td>\n",
              "    </tr>\n",
              "  </tbody>\n",
              "</table>\n",
              "</div>\n",
              "      <button class=\"colab-df-convert\" onclick=\"convertToInteractive('df-354a9031-d0f9-420a-bdc1-14612f38e07a')\"\n",
              "              title=\"Convert this dataframe to an interactive table.\"\n",
              "              style=\"display:none;\">\n",
              "        \n",
              "  <svg xmlns=\"http://www.w3.org/2000/svg\" height=\"24px\"viewBox=\"0 0 24 24\"\n",
              "       width=\"24px\">\n",
              "    <path d=\"M0 0h24v24H0V0z\" fill=\"none\"/>\n",
              "    <path d=\"M18.56 5.44l.94 2.06.94-2.06 2.06-.94-2.06-.94-.94-2.06-.94 2.06-2.06.94zm-11 1L8.5 8.5l.94-2.06 2.06-.94-2.06-.94L8.5 2.5l-.94 2.06-2.06.94zm10 10l.94 2.06.94-2.06 2.06-.94-2.06-.94-.94-2.06-.94 2.06-2.06.94z\"/><path d=\"M17.41 7.96l-1.37-1.37c-.4-.4-.92-.59-1.43-.59-.52 0-1.04.2-1.43.59L10.3 9.45l-7.72 7.72c-.78.78-.78 2.05 0 2.83L4 21.41c.39.39.9.59 1.41.59.51 0 1.02-.2 1.41-.59l7.78-7.78 2.81-2.81c.8-.78.8-2.07 0-2.86zM5.41 20L4 18.59l7.72-7.72 1.47 1.35L5.41 20z\"/>\n",
              "  </svg>\n",
              "      </button>\n",
              "      \n",
              "  <style>\n",
              "    .colab-df-container {\n",
              "      display:flex;\n",
              "      flex-wrap:wrap;\n",
              "      gap: 12px;\n",
              "    }\n",
              "\n",
              "    .colab-df-convert {\n",
              "      background-color: #E8F0FE;\n",
              "      border: none;\n",
              "      border-radius: 50%;\n",
              "      cursor: pointer;\n",
              "      display: none;\n",
              "      fill: #1967D2;\n",
              "      height: 32px;\n",
              "      padding: 0 0 0 0;\n",
              "      width: 32px;\n",
              "    }\n",
              "\n",
              "    .colab-df-convert:hover {\n",
              "      background-color: #E2EBFA;\n",
              "      box-shadow: 0px 1px 2px rgba(60, 64, 67, 0.3), 0px 1px 3px 1px rgba(60, 64, 67, 0.15);\n",
              "      fill: #174EA6;\n",
              "    }\n",
              "\n",
              "    [theme=dark] .colab-df-convert {\n",
              "      background-color: #3B4455;\n",
              "      fill: #D2E3FC;\n",
              "    }\n",
              "\n",
              "    [theme=dark] .colab-df-convert:hover {\n",
              "      background-color: #434B5C;\n",
              "      box-shadow: 0px 1px 3px 1px rgba(0, 0, 0, 0.15);\n",
              "      filter: drop-shadow(0px 1px 2px rgba(0, 0, 0, 0.3));\n",
              "      fill: #FFFFFF;\n",
              "    }\n",
              "  </style>\n",
              "\n",
              "      <script>\n",
              "        const buttonEl =\n",
              "          document.querySelector('#df-354a9031-d0f9-420a-bdc1-14612f38e07a button.colab-df-convert');\n",
              "        buttonEl.style.display =\n",
              "          google.colab.kernel.accessAllowed ? 'block' : 'none';\n",
              "\n",
              "        async function convertToInteractive(key) {\n",
              "          const element = document.querySelector('#df-354a9031-d0f9-420a-bdc1-14612f38e07a');\n",
              "          const dataTable =\n",
              "            await google.colab.kernel.invokeFunction('convertToInteractive',\n",
              "                                                     [key], {});\n",
              "          if (!dataTable) return;\n",
              "\n",
              "          const docLinkHtml = 'Like what you see? Visit the ' +\n",
              "            '<a target=\"_blank\" href=https://colab.research.google.com/notebooks/data_table.ipynb>data table notebook</a>'\n",
              "            + ' to learn more about interactive tables.';\n",
              "          element.innerHTML = '';\n",
              "          dataTable['output_type'] = 'display_data';\n",
              "          await google.colab.output.renderOutput(dataTable, element);\n",
              "          const docLink = document.createElement('div');\n",
              "          docLink.innerHTML = docLinkHtml;\n",
              "          element.appendChild(docLink);\n",
              "        }\n",
              "      </script>\n",
              "    </div>\n",
              "  </div>\n",
              "  "
            ]
          },
          "metadata": {},
          "execution_count": 36
        }
      ]
    },
    {
      "cell_type": "code",
      "source": [
        "\n",
        "sns.catplot(x=\"Company\", y=\"Price\", hue=\"Processor Type\", data=df,height=6, aspect=10/6)"
      ],
      "metadata": {
        "colab": {
          "base_uri": "https://localhost:8080/",
          "height": 458
        },
        "id": "iRaKC_0xABxH",
        "outputId": "8e85a036-e427-4046-fcae-304660572260"
      },
      "execution_count": 37,
      "outputs": [
        {
          "output_type": "execute_result",
          "data": {
            "text/plain": [
              "<seaborn.axisgrid.FacetGrid at 0x7f88970e2f10>"
            ]
          },
          "metadata": {},
          "execution_count": 37
        },
        {
          "output_type": "display_data",
          "data": {
            "text/plain": [
              "<Figure size 801.875x432 with 1 Axes>"
            ],
            "image/png": "[encoded data removed]"
          },
          "metadata": {
            "needs_background": "light"
          }
        }
      ]
    },
    {
      "cell_type": "markdown",
      "source": [
        "\n",
        "So from the table and the plot it is noticeable that the i9 processors are the most expensive, and then comes i7. For every company i9 laptops are costlier than i7 and i7 costlier than i5. There might be a few cases where i5 price > i7 price(this totally depends on the generation and other specifications such as RAM,SSD/HDD etc)\n"
      ],
      "metadata": {
        "id": "s_Ucb4B_AZs-"
      }
    },
    {
      "cell_type": "code",
      "source": [
        "df['Touchscreen'].value_counts().plot(kind='bar')"
      ],
      "metadata": {
        "colab": {
          "base_uri": "https://localhost:8080/",
          "height": 288
        },
        "id": "JubIFrknAB0R",
        "outputId": "5462a3a6-f18f-4095-8a09-f7fe3b9feddd"
      },
      "execution_count": 38,
      "outputs": [
        {
          "output_type": "execute_result",
          "data": {
            "text/plain": [
              "<matplotlib.axes._subplots.AxesSubplot at 0x7f88947e69d0>"
            ]
          },
          "metadata": {},
          "execution_count": 38
        },
        {
          "output_type": "display_data",
          "data": {
            "text/plain": [
              "<Figure size 432x288 with 1 Axes>"
            ],
            "image/png": "[encoded data removed]"
          },
          "metadata": {
            "needs_background": "light"
          }
        }
      ]
    },
    {
      "cell_type": "code",
      "source": [
        "df['Graphic Card'].value_counts().plot(kind='bar')"
      ],
      "metadata": {
        "colab": {
          "base_uri": "https://localhost:8080/",
          "height": 288
        },
        "id": "hq0B1qzhAB2z",
        "outputId": "89febaeb-35fe-4d3e-c4ef-1081d4fc12fd"
      },
      "execution_count": 39,
      "outputs": [
        {
          "output_type": "execute_result",
          "data": {
            "text/plain": [
              "<matplotlib.axes._subplots.AxesSubplot at 0x7f8894702210>"
            ]
          },
          "metadata": {},
          "execution_count": 39
        },
        {
          "output_type": "display_data",
          "data": {
            "text/plain": [
              "<Figure size 432x288 with 1 Axes>"
            ],
            "image/png": "[encoded data removed]"
          },
          "metadata": {
            "needs_background": "light"
          }
        }
      ]
    },
    {
      "cell_type": "markdown",
      "source": [
        "Most of the laptops do not have the touchscreen facility. Most of the laptops do not have graphic card which is actually bad because 2GB Graphic card is a must these days even for basic purposes."
      ],
      "metadata": {
        "id": "oF77-3tLAjNx"
      }
    },
    {
      "cell_type": "code",
      "source": [
        "df.columns"
      ],
      "metadata": {
        "colab": {
          "base_uri": "https://localhost:8080/"
        },
        "id": "74pgngGtAe8d",
        "outputId": "1d5d922f-e34e-4d6d-b242-a64f5c6cf90d"
      },
      "execution_count": 40,
      "outputs": [
        {
          "output_type": "execute_result",
          "data": {
            "text/plain": [
              "Index(['Description', 'Processor', 'RAM', 'Operating System', 'Storage',\n",
              "       'Display', 'Warranty', 'Price', 'RAM_GB', 'DDR_Version',\n",
              "       'Processor Name', 'Processor Type', 'Generation',\n",
              "       'Operating System Type', 'Storage_GB', 'Disk Drive', 'Size(Inches)',\n",
              "       'Company', 'Graphic Card', 'Touchscreen', 'SSD', 'HDD'],\n",
              "      dtype='object')"
            ]
          },
          "metadata": {},
          "execution_count": 40
        }
      ]
    },
    {
      "cell_type": "code",
      "source": [
        "a=np.array(df['Company'].value_counts())\n",
        "a"
      ],
      "metadata": {
        "colab": {
          "base_uri": "https://localhost:8080/"
        },
        "id": "O6vtg1K-Ae_d",
        "outputId": "16398417-3b71-4237-8704-5d4ccea77ee5"
      },
      "execution_count": 41,
      "outputs": [
        {
          "output_type": "execute_result",
          "data": {
            "text/plain": [
              "array([45, 37, 26, 22,  9,  8,  8,  6,  4,  1,  1,  1])"
            ]
          },
          "metadata": {},
          "execution_count": 41
        }
      ]
    },
    {
      "cell_type": "code",
      "source": [
        "df['Company'].value_counts()"
      ],
      "metadata": {
        "colab": {
          "base_uri": "https://localhost:8080/"
        },
        "id": "O2drj54pAfDA",
        "outputId": "76a7c568-4098-4336-c13b-2d9a4a45afc2"
      },
      "execution_count": 42,
      "outputs": [
        {
          "output_type": "execute_result",
          "data": {
            "text/plain": [
              "Asus         45\n",
              "HP           37\n",
              "Lenovo       26\n",
              "Acer         22\n",
              "Apple         9\n",
              "Dell          8\n",
              "Microsoft     8\n",
              "MSI           6\n",
              "Alienware     4\n",
              "MarQ          1\n",
              "Avita         1\n",
              "Nexstgo       1\n",
              "Name: Company, dtype: int64"
            ]
          },
          "metadata": {},
          "execution_count": 42
        }
      ]
    },
    {
      "cell_type": "code",
      "source": [
        "# autopct create %, start angle represent starting point\n",
        "df['Company'].value_counts().plot(kind='pie',\n",
        "                            figsize=(10, 6),\n",
        "                            autopct='%1.1f%%', # add in percentages\n",
        "                            startangle=90,     # start angle 90° (Africa)\n",
        "                            shadow=True,       # add shadow      \n",
        "                            )\n",
        "\n",
        "plt.title('Immigration to Canada by Continent [1980 - 2013]')\n",
        "plt.axis('equal') # Sets the pie chart to look like a circle.\n",
        "\n",
        "plt.show()\n"
      ],
      "metadata": {
        "colab": {
          "base_uri": "https://localhost:8080/",
          "height": 373
        },
        "id": "tzyCXYp4AfF5",
        "outputId": "928ef772-e01d-49c0-be2a-4eff79de5af9"
      },
      "execution_count": 43,
      "outputs": [
        {
          "output_type": "display_data",
          "data": {
            "text/plain": [
              "<Figure size 720x432 with 1 Axes>"
            ],
            "image/png": "[encoded data removed]"
          },
          "metadata": {}
        }
      ]
    },
    {
      "cell_type": "code",
      "source": [
        "df"
      ],
      "metadata": {
        "colab": {
          "base_uri": "https://localhost:8080/",
          "height": 1000
        },
        "id": "n1USty-9AfJq",
        "outputId": "7f516781-a229-4d57-a710-491a7f5906e0"
      },
      "execution_count": 44,
      "outputs": [
        {
          "output_type": "execute_result",
          "data": {
            "text/plain": [
              "                                           Description  \\\n",
              "0    HP Spectre x360 Core i5 10th Gen - (8 GB/512 G...   \n",
              "1    Asus VivoBook 14 Core i5 8th Gen - (8 GB/512 G...   \n",
              "2    Acer Aspire 7 Core i5 9th Gen - (8 GB/512 GB S...   \n",
              "3    Asus VivoBook 14 Ryzen 5 Quad Core 2nd Gen - (...   \n",
              "4    HP 14s Core i5 10th Gen - (8 GB/512 GB SSD/Win...   \n",
              "..                                                 ...   \n",
              "163  Lenovo Ideapad Slim APU Dual Core A4 - (4 GB/6...   \n",
              "164  Acer Predator Triton 300 Core i7 9th Gen - (8 ...   \n",
              "165  Lenovo Yoga 730 Core i5 8th Gen - (8 GB/512 GB...   \n",
              "166  Asus ZenBook Core i7 10th Gen - (16 GB/1 TB SS...   \n",
              "167  Apple MacBook Pro Core i7 7th Gen - (16 GB/512...   \n",
              "\n",
              "                                     Processor             RAM  \\\n",
              "0           Intel Core i5 Processor (10th Gen)   8 GB DDR4 RAM   \n",
              "1            Intel Core i5 Processor (8th Gen)   8 GB DDR4 RAM   \n",
              "2            Intel Core i5 Processor (9th Gen)   8 GB DDR4 RAM   \n",
              "3    AMD Ryzen 5 Quad Core Processor (2nd Gen)   8 GB DDR4 RAM   \n",
              "4           Intel Core i5 Processor (10th Gen)   8 GB DDR4 RAM   \n",
              "..                                         ...             ...   \n",
              "163             AMD APU Dual Core A4 Processor   4 GB DDR4 RAM   \n",
              "164          Intel Core i7 Processor (9th Gen)   8 GB DDR4 RAM   \n",
              "165          Intel Core i5 Processor (8th Gen)   8 GB DDR4 RAM   \n",
              "166         Intel Core i7 Processor (10th Gen)  16 GB DDR4 RAM   \n",
              "167          Intel Core i7 Processor (7th Gen)  16 GB DDR3 RAM   \n",
              "\n",
              "                       Operating System              Storage  \\\n",
              "0    64 bit Windows 10 Operating System           512 GB SSD   \n",
              "1    64 bit Windows 10 Operating System           512 GB SSD   \n",
              "2    64 bit Windows 10 Operating System           512 GB SSD   \n",
              "3    64 bit Windows 10 Operating System           512 GB SSD   \n",
              "4    64 bit Windows 10 Operating System           512 GB SSD   \n",
              "..                                  ...                  ...   \n",
              "163  64 bit Windows 10 Operating System           128 GB SSD   \n",
              "164  64 bit Windows 10 Operating System  2 TB HDD|256 GB SSD   \n",
              "165  64 bit Windows 10 Operating System           512 GB SSD   \n",
              "166  64 bit Windows 10 Operating System             1 TB SSD   \n",
              "167      64 bit Mac OS Operating System           512 GB SSD   \n",
              "\n",
              "                                      Display  \\\n",
              "0    33.78 cm (13.3 inch) Touchscreen Display   \n",
              "1                  35.56 cm (14 inch) Display   \n",
              "2                39.62 cm (15.6 inch) Display   \n",
              "3                  35.56 cm (14 inch) Display   \n",
              "4                  35.56 cm (14 inch) Display   \n",
              "..                                        ...   \n",
              "163                35.56 cm (14 inch) Display   \n",
              "164              39.62 cm (15.6 inch) Display   \n",
              "165  33.78 cm (13.3 inch) Touchscreen Display   \n",
              "166              33.78 cm (13.3 inch) Display   \n",
              "167              39.12 cm (15.4 inch) Display   \n",
              "\n",
              "                                           Warranty     Price  RAM_GB  \\\n",
              "0                            1 Year Onsite Warranty  102990.0       8   \n",
              "1    1 Year Limited International Hardware Warranty   55990.0       8   \n",
              "2     1 Year International Travelers Warranty (ITW)   56990.0       8   \n",
              "3    1 Year Limited International Hardware Warranty   42990.0       8   \n",
              "4                            1 Year Onsite Warranty   52990.0       8   \n",
              "..                                              ...       ...     ...   \n",
              "163                          1 Year Onsite Warranty   20990.0       4   \n",
              "164   1 Year International Travelers Warranty (ITW)   97990.0       8   \n",
              "165                          1 Year Onsite Warranty   94990.0       8   \n",
              "166                          1 Year Onsite Warranty   99990.0      16   \n",
              "167                                 1 Year Warranty  229990.0      16   \n",
              "\n",
              "     DDR_Version  ... Generation Operating System Type  Storage_GB Disk Drive  \\\n",
              "0              4  ...         10               Windows         512        SSD   \n",
              "1              4  ...          8               Windows         512        SSD   \n",
              "2              4  ...          9               Windows         512        SSD   \n",
              "3              4  ...          2               Windows         512        SSD   \n",
              "4              4  ...         10               Windows         512        SSD   \n",
              "..           ...  ...        ...                   ...         ...        ...   \n",
              "163            4  ...          0               Windows         128        SSD   \n",
              "164            4  ...          9               Windows    2000+256       Both   \n",
              "165            4  ...          8               Windows         512        SSD   \n",
              "166            4  ...         10               Windows        1000        SSD   \n",
              "167            3  ...          7                   Mac         512        SSD   \n",
              "\n",
              "    Size(Inches) Company  Graphic Card Touchscreen   SSD   HDD  \n",
              "0           13.3      HP            No         Yes  512      0  \n",
              "1           14.0    Asus           Yes          No  512      0  \n",
              "2           15.6    Acer           Yes          No  512      0  \n",
              "3           14.0    Asus            No          No  512      0  \n",
              "4           14.0      HP            No          No  512      0  \n",
              "..           ...     ...           ...         ...   ...   ...  \n",
              "163         14.0  Lenovo            No          No  128      0  \n",
              "164         15.6    Acer           Yes          No  256   2000  \n",
              "165         13.3  Lenovo            No         Yes  512      0  \n",
              "166         13.3    Asus            No          No    1      0  \n",
              "167         15.4   Apple           Yes          No  512      0  \n",
              "\n",
              "[168 rows x 22 columns]"
            ],
            "text/html": [
              "\n",
              "  <div id=\"df-5a57c683-8fc7-4f89-85cf-d442bcac9d06\">\n",
              "    <div class=\"colab-df-container\">\n",
              "      <div>\n",
              "<style scoped>\n",
              "    .dataframe tbody tr th:only-of-type {\n",
              "        vertical-align: middle;\n",
              "    }\n",
              "\n",
              "    .dataframe tbody tr th {\n",
              "        vertical-align: top;\n",
              "    }\n",
              "\n",
              "    .dataframe thead th {\n",
              "        text-align: right;\n",
              "    }\n",
              "</style>\n",
              "<table border=\"1\" class=\"dataframe\">\n",
              "  <thead>\n",
              "    <tr style=\"text-align: right;\">\n",
              "      <th></th>\n",
              "      <th>Description</th>\n",
              "      <th>Processor</th>\n",
              "      <th>RAM</th>\n",
              "      <th>Operating System</th>\n",
              "      <th>Storage</th>\n",
              "      <th>Display</th>\n",
              "      <th>Warranty</th>\n",
              "      <th>Price</th>\n",
              "      <th>RAM_GB</th>\n",
              "      <th>DDR_Version</th>\n",
              "      <th>...</th>\n",
              "      <th>Generation</th>\n",
              "      <th>Operating System Type</th>\n",
              "      <th>Storage_GB</th>\n",
              "      <th>Disk Drive</th>\n",
              "      <th>Size(Inches)</th>\n",
              "      <th>Company</th>\n",
              "      <th>Graphic Card</th>\n",
              "      <th>Touchscreen</th>\n",
              "      <th>SSD</th>\n",
              "      <th>HDD</th>\n",
              "    </tr>\n",
              "  </thead>\n",
              "  <tbody>\n",
              "    <tr>\n",
              "      <th>0</th>\n",
              "      <td>HP Spectre x360 Core i5 10th Gen - (8 GB/512 G...</td>\n",
              "      <td>Intel Core i5 Processor (10th Gen)</td>\n",
              "      <td>8 GB DDR4 RAM</td>\n",
              "      <td>64 bit Windows 10 Operating System</td>\n",
              "      <td>512 GB SSD</td>\n",
              "      <td>33.78 cm (13.3 inch) Touchscreen Display</td>\n",
              "      <td>1 Year Onsite Warranty</td>\n",
              "      <td>102990.0</td>\n",
              "      <td>8</td>\n",
              "      <td>4</td>\n",
              "      <td>...</td>\n",
              "      <td>10</td>\n",
              "      <td>Windows</td>\n",
              "      <td>512</td>\n",
              "      <td>SSD</td>\n",
              "      <td>13.3</td>\n",
              "      <td>HP</td>\n",
              "      <td>No</td>\n",
              "      <td>Yes</td>\n",
              "      <td>512</td>\n",
              "      <td>0</td>\n",
              "    </tr>\n",
              "    <tr>\n",
              "      <th>1</th>\n",
              "      <td>Asus VivoBook 14 Core i5 8th Gen - (8 GB/512 G...</td>\n",
              "      <td>Intel Core i5 Processor (8th Gen)</td>\n",
              "      <td>8 GB DDR4 RAM</td>\n",
              "      <td>64 bit Windows 10 Operating System</td>\n",
              "      <td>512 GB SSD</td>\n",
              "      <td>35.56 cm (14 inch) Display</td>\n",
              "      <td>1 Year Limited International Hardware Warranty</td>\n",
              "      <td>55990.0</td>\n",
              "      <td>8</td>\n",
              "      <td>4</td>\n",
              "      <td>...</td>\n",
              "      <td>8</td>\n",
              "      <td>Windows</td>\n",
              "      <td>512</td>\n",
              "      <td>SSD</td>\n",
              "      <td>14.0</td>\n",
              "      <td>Asus</td>\n",
              "      <td>Yes</td>\n",
              "      <td>No</td>\n",
              "      <td>512</td>\n",
              "      <td>0</td>\n",
              "    </tr>\n",
              "    <tr>\n",
              "      <th>2</th>\n",
              "      <td>Acer Aspire 7 Core i5 9th Gen - (8 GB/512 GB S...</td>\n",
              "      <td>Intel Core i5 Processor (9th Gen)</td>\n",
              "      <td>8 GB DDR4 RAM</td>\n",
              "      <td>64 bit Windows 10 Operating System</td>\n",
              "      <td>512 GB SSD</td>\n",
              "      <td>39.62 cm (15.6 inch) Display</td>\n",
              "      <td>1 Year International Travelers Warranty (ITW)</td>\n",
              "      <td>56990.0</td>\n",
              "      <td>8</td>\n",
              "      <td>4</td>\n",
              "      <td>...</td>\n",
              "      <td>9</td>\n",
              "      <td>Windows</td>\n",
              "      <td>512</td>\n",
              "      <td>SSD</td>\n",
              "      <td>15.6</td>\n",
              "      <td>Acer</td>\n",
              "      <td>Yes</td>\n",
              "      <td>No</td>\n",
              "      <td>512</td>\n",
              "      <td>0</td>\n",
              "    </tr>\n",
              "    <tr>\n",
              "      <th>3</th>\n",
              "      <td>Asus VivoBook 14 Ryzen 5 Quad Core 2nd Gen - (...</td>\n",
              "      <td>AMD Ryzen 5 Quad Core Processor (2nd Gen)</td>\n",
              "      <td>8 GB DDR4 RAM</td>\n",
              "      <td>64 bit Windows 10 Operating System</td>\n",
              "      <td>512 GB SSD</td>\n",
              "      <td>35.56 cm (14 inch) Display</td>\n",
              "      <td>1 Year Limited International Hardware Warranty</td>\n",
              "      <td>42990.0</td>\n",
              "      <td>8</td>\n",
              "      <td>4</td>\n",
              "      <td>...</td>\n",
              "      <td>2</td>\n",
              "      <td>Windows</td>\n",
              "      <td>512</td>\n",
              "      <td>SSD</td>\n",
              "      <td>14.0</td>\n",
              "      <td>Asus</td>\n",
              "      <td>No</td>\n",
              "      <td>No</td>\n",
              "      <td>512</td>\n",
              "      <td>0</td>\n",
              "    </tr>\n",
              "    <tr>\n",
              "      <th>4</th>\n",
              "      <td>HP 14s Core i5 10th Gen - (8 GB/512 GB SSD/Win...</td>\n",
              "      <td>Intel Core i5 Processor (10th Gen)</td>\n",
              "      <td>8 GB DDR4 RAM</td>\n",
              "      <td>64 bit Windows 10 Operating System</td>\n",
              "      <td>512 GB SSD</td>\n",
              "      <td>35.56 cm (14 inch) Display</td>\n",
              "      <td>1 Year Onsite Warranty</td>\n",
              "      <td>52990.0</td>\n",
              "      <td>8</td>\n",
              "      <td>4</td>\n",
              "      <td>...</td>\n",
              "      <td>10</td>\n",
              "      <td>Windows</td>\n",
              "      <td>512</td>\n",
              "      <td>SSD</td>\n",
              "      <td>14.0</td>\n",
              "      <td>HP</td>\n",
              "      <td>No</td>\n",
              "      <td>No</td>\n",
              "      <td>512</td>\n",
              "      <td>0</td>\n",
              "    </tr>\n",
              "    <tr>\n",
              "      <th>...</th>\n",
              "      <td>...</td>\n",
              "      <td>...</td>\n",
              "      <td>...</td>\n",
              "      <td>...</td>\n",
              "      <td>...</td>\n",
              "      <td>...</td>\n",
              "      <td>...</td>\n",
              "      <td>...</td>\n",
              "      <td>...</td>\n",
              "      <td>...</td>\n",
              "      <td>...</td>\n",
              "      <td>...</td>\n",
              "      <td>...</td>\n",
              "      <td>...</td>\n",
              "      <td>...</td>\n",
              "      <td>...</td>\n",
              "      <td>...</td>\n",
              "      <td>...</td>\n",
              "      <td>...</td>\n",
              "      <td>...</td>\n",
              "      <td>...</td>\n",
              "    </tr>\n",
              "    <tr>\n",
              "      <th>163</th>\n",
              "      <td>Lenovo Ideapad Slim APU Dual Core A4 - (4 GB/6...</td>\n",
              "      <td>AMD APU Dual Core A4 Processor</td>\n",
              "      <td>4 GB DDR4 RAM</td>\n",
              "      <td>64 bit Windows 10 Operating System</td>\n",
              "      <td>128 GB SSD</td>\n",
              "      <td>35.56 cm (14 inch) Display</td>\n",
              "      <td>1 Year Onsite Warranty</td>\n",
              "      <td>20990.0</td>\n",
              "      <td>4</td>\n",
              "      <td>4</td>\n",
              "      <td>...</td>\n",
              "      <td>0</td>\n",
              "      <td>Windows</td>\n",
              "      <td>128</td>\n",
              "      <td>SSD</td>\n",
              "      <td>14.0</td>\n",
              "      <td>Lenovo</td>\n",
              "      <td>No</td>\n",
              "      <td>No</td>\n",
              "      <td>128</td>\n",
              "      <td>0</td>\n",
              "    </tr>\n",
              "    <tr>\n",
              "      <th>164</th>\n",
              "      <td>Acer Predator Triton 300 Core i7 9th Gen - (8 ...</td>\n",
              "      <td>Intel Core i7 Processor (9th Gen)</td>\n",
              "      <td>8 GB DDR4 RAM</td>\n",
              "      <td>64 bit Windows 10 Operating System</td>\n",
              "      <td>2 TB HDD|256 GB SSD</td>\n",
              "      <td>39.62 cm (15.6 inch) Display</td>\n",
              "      <td>1 Year International Travelers Warranty (ITW)</td>\n",
              "      <td>97990.0</td>\n",
              "      <td>8</td>\n",
              "      <td>4</td>\n",
              "      <td>...</td>\n",
              "      <td>9</td>\n",
              "      <td>Windows</td>\n",
              "      <td>2000+256</td>\n",
              "      <td>Both</td>\n",
              "      <td>15.6</td>\n",
              "      <td>Acer</td>\n",
              "      <td>Yes</td>\n",
              "      <td>No</td>\n",
              "      <td>256</td>\n",
              "      <td>2000</td>\n",
              "    </tr>\n",
              "    <tr>\n",
              "      <th>165</th>\n",
              "      <td>Lenovo Yoga 730 Core i5 8th Gen - (8 GB/512 GB...</td>\n",
              "      <td>Intel Core i5 Processor (8th Gen)</td>\n",
              "      <td>8 GB DDR4 RAM</td>\n",
              "      <td>64 bit Windows 10 Operating System</td>\n",
              "      <td>512 GB SSD</td>\n",
              "      <td>33.78 cm (13.3 inch) Touchscreen Display</td>\n",
              "      <td>1 Year Onsite Warranty</td>\n",
              "      <td>94990.0</td>\n",
              "      <td>8</td>\n",
              "      <td>4</td>\n",
              "      <td>...</td>\n",
              "      <td>8</td>\n",
              "      <td>Windows</td>\n",
              "      <td>512</td>\n",
              "      <td>SSD</td>\n",
              "      <td>13.3</td>\n",
              "      <td>Lenovo</td>\n",
              "      <td>No</td>\n",
              "      <td>Yes</td>\n",
              "      <td>512</td>\n",
              "      <td>0</td>\n",
              "    </tr>\n",
              "    <tr>\n",
              "      <th>166</th>\n",
              "      <td>Asus ZenBook Core i7 10th Gen - (16 GB/1 TB SS...</td>\n",
              "      <td>Intel Core i7 Processor (10th Gen)</td>\n",
              "      <td>16 GB DDR4 RAM</td>\n",
              "      <td>64 bit Windows 10 Operating System</td>\n",
              "      <td>1 TB SSD</td>\n",
              "      <td>33.78 cm (13.3 inch) Display</td>\n",
              "      <td>1 Year Onsite Warranty</td>\n",
              "      <td>99990.0</td>\n",
              "      <td>16</td>\n",
              "      <td>4</td>\n",
              "      <td>...</td>\n",
              "      <td>10</td>\n",
              "      <td>Windows</td>\n",
              "      <td>1000</td>\n",
              "      <td>SSD</td>\n",
              "      <td>13.3</td>\n",
              "      <td>Asus</td>\n",
              "      <td>No</td>\n",
              "      <td>No</td>\n",
              "      <td>1</td>\n",
              "      <td>0</td>\n",
              "    </tr>\n",
              "    <tr>\n",
              "      <th>167</th>\n",
              "      <td>Apple MacBook Pro Core i7 7th Gen - (16 GB/512...</td>\n",
              "      <td>Intel Core i7 Processor (7th Gen)</td>\n",
              "      <td>16 GB DDR3 RAM</td>\n",
              "      <td>64 bit Mac OS Operating System</td>\n",
              "      <td>512 GB SSD</td>\n",
              "      <td>39.12 cm (15.4 inch) Display</td>\n",
              "      <td>1 Year Warranty</td>\n",
              "      <td>229990.0</td>\n",
              "      <td>16</td>\n",
              "      <td>3</td>\n",
              "      <td>...</td>\n",
              "      <td>7</td>\n",
              "      <td>Mac</td>\n",
              "      <td>512</td>\n",
              "      <td>SSD</td>\n",
              "      <td>15.4</td>\n",
              "      <td>Apple</td>\n",
              "      <td>Yes</td>\n",
              "      <td>No</td>\n",
              "      <td>512</td>\n",
              "      <td>0</td>\n",
              "    </tr>\n",
              "  </tbody>\n",
              "</table>\n",
              "<p>168 rows × 22 columns</p>\n",
              "</div>\n",
              "      <button class=\"colab-df-convert\" onclick=\"convertToInteractive('df-5a57c683-8fc7-4f89-85cf-d442bcac9d06')\"\n",
              "              title=\"Convert this dataframe to an interactive table.\"\n",
              "              style=\"display:none;\">\n",
              "        \n",
              "  <svg xmlns=\"http://www.w3.org/2000/svg\" height=\"24px\"viewBox=\"0 0 24 24\"\n",
              "       width=\"24px\">\n",
              "    <path d=\"M0 0h24v24H0V0z\" fill=\"none\"/>\n",
              "    <path d=\"M18.56 5.44l.94 2.06.94-2.06 2.06-.94-2.06-.94-.94-2.06-.94 2.06-2.06.94zm-11 1L8.5 8.5l.94-2.06 2.06-.94-2.06-.94L8.5 2.5l-.94 2.06-2.06.94zm10 10l.94 2.06.94-2.06 2.06-.94-2.06-.94-.94-2.06-.94 2.06-2.06.94z\"/><path d=\"M17.41 7.96l-1.37-1.37c-.4-.4-.92-.59-1.43-.59-.52 0-1.04.2-1.43.59L10.3 9.45l-7.72 7.72c-.78.78-.78 2.05 0 2.83L4 21.41c.39.39.9.59 1.41.59.51 0 1.02-.2 1.41-.59l7.78-7.78 2.81-2.81c.8-.78.8-2.07 0-2.86zM5.41 20L4 18.59l7.72-7.72 1.47 1.35L5.41 20z\"/>\n",
              "  </svg>\n",
              "      </button>\n",
              "      \n",
              "  <style>\n",
              "    .colab-df-container {\n",
              "      display:flex;\n",
              "      flex-wrap:wrap;\n",
              "      gap: 12px;\n",
              "    }\n",
              "\n",
              "    .colab-df-convert {\n",
              "      background-color: #E8F0FE;\n",
              "      border: none;\n",
              "      border-radius: 50%;\n",
              "      cursor: pointer;\n",
              "      display: none;\n",
              "      fill: #1967D2;\n",
              "      height: 32px;\n",
              "      padding: 0 0 0 0;\n",
              "      width: 32px;\n",
              "    }\n",
              "\n",
              "    .colab-df-convert:hover {\n",
              "      background-color: #E2EBFA;\n",
              "      box-shadow: 0px 1px 2px rgba(60, 64, 67, 0.3), 0px 1px 3px 1px rgba(60, 64, 67, 0.15);\n",
              "      fill: #174EA6;\n",
              "    }\n",
              "\n",
              "    [theme=dark] .colab-df-convert {\n",
              "      background-color: #3B4455;\n",
              "      fill: #D2E3FC;\n",
              "    }\n",
              "\n",
              "    [theme=dark] .colab-df-convert:hover {\n",
              "      background-color: #434B5C;\n",
              "      box-shadow: 0px 1px 3px 1px rgba(0, 0, 0, 0.15);\n",
              "      filter: drop-shadow(0px 1px 2px rgba(0, 0, 0, 0.3));\n",
              "      fill: #FFFFFF;\n",
              "    }\n",
              "  </style>\n",
              "\n",
              "      <script>\n",
              "        const buttonEl =\n",
              "          document.querySelector('#df-5a57c683-8fc7-4f89-85cf-d442bcac9d06 button.colab-df-convert');\n",
              "        buttonEl.style.display =\n",
              "          google.colab.kernel.accessAllowed ? 'block' : 'none';\n",
              "\n",
              "        async function convertToInteractive(key) {\n",
              "          const element = document.querySelector('#df-5a57c683-8fc7-4f89-85cf-d442bcac9d06');\n",
              "          const dataTable =\n",
              "            await google.colab.kernel.invokeFunction('convertToInteractive',\n",
              "                                                     [key], {});\n",
              "          if (!dataTable) return;\n",
              "\n",
              "          const docLinkHtml = 'Like what you see? Visit the ' +\n",
              "            '<a target=\"_blank\" href=https://colab.research.google.com/notebooks/data_table.ipynb>data table notebook</a>'\n",
              "            + ' to learn more about interactive tables.';\n",
              "          element.innerHTML = '';\n",
              "          dataTable['output_type'] = 'display_data';\n",
              "          await google.colab.output.renderOutput(dataTable, element);\n",
              "          const docLink = document.createElement('div');\n",
              "          docLink.innerHTML = docLinkHtml;\n",
              "          element.appendChild(docLink);\n",
              "        }\n",
              "      </script>\n",
              "    </div>\n",
              "  </div>\n",
              "  "
            ]
          },
          "metadata": {},
          "execution_count": 44
        }
      ]
    },
    {
      "cell_type": "code",
      "source": [],
      "metadata": {
        "id": "8b-fHsYEAv-W"
      },
      "execution_count": null,
      "outputs": []
    },
    {
      "cell_type": "code",
      "source": [],
      "metadata": {
        "id": "46ZK8nXuAwBa"
      },
      "execution_count": null,
      "outputs": []
    },
    {
      "cell_type": "code",
      "source": [],
      "metadata": {
        "id": "VdI1gzP0AwG5"
      },
      "execution_count": null,
      "outputs": []
    },
    {
      "cell_type": "code",
      "source": [],
      "metadata": {
        "id": "0gUYqbq9AwJw"
      },
      "execution_count": null,
      "outputs": []
    },
    {
      "cell_type": "code",
      "source": [],
      "metadata": {
        "id": "MUGd7v15AwMj"
      },
      "execution_count": null,
      "outputs": []
    }
  ]
}